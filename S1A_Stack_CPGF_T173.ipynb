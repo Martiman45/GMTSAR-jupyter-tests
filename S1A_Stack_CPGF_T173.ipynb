{
 "cells": [
  {
   "cell_type": "markdown",
   "metadata": {},
   "source": [
    "Script to batch process a Sentinel-1a TOPS mode data set and create time series.\n",
    "\n",
    "\n",
    "***Curently not working - use readme files instead***\n",
    "  \n",
    "Xiaohua(Eric) Xu  \n",
    "June 2016  \n",
    "Adapted to Jupyter September 5, 2023\n",
    "\n",
    "First, prepare the files"
   ]
  },
  {
   "cell_type": "code",
   "execution_count": 5,
   "metadata": {
    "vscode": {
     "languageId": "shellscript"
    }
   },
   "outputs": [],
   "source": [
    "import os"
   ]
  },
  {
   "cell_type": "code",
   "execution_count": null,
   "metadata": {
    "vscode": {
     "languageId": "shellscript"
    }
   },
   "outputs": [],
   "source": [
    "!rm -rf raw\n",
    "!mkdir raw\n",
    "os.chdir(\"raw\")"
   ]
  },
  {
   "cell_type": "markdown",
   "metadata": {},
   "source": [
    "In order to correct for Elevation Antenna Pattern Change, cat the manifest and aux files to the xmls and\n",
    "delete the first line of the manifest file as it's not a typical xml file."
   ]
  },
  {
   "cell_type": "code",
   "execution_count": null,
   "metadata": {
    "vscode": {
     "languageId": "shellscript"
    }
   },
   "outputs": [],
   "source": [
    "!awk 'NR>1 {print $0}' < ../raw_orig/20150121_manifest.safe > tmp_file\n",
    "!cat ../raw_orig/s1a-iw1-slc-vv-20150121t134413-20150121t134424-004270-005317-001.xml tmp_file ../raw_orig/s1a-aux-cal.xml > ./s1a-iw1-slc-vv-20150121t134413-20150121t134424-004270-005317-001.xml\n",
    "!awk 'NR>1 {print $0}' < ../raw_orig/20150310_manifest.safe > tmp_file\n",
    "!cat ../raw_orig/s1a-iw1-slc-vv-20150310t134412-20150310t134424-004970-006386-001.xml tmp_file ../raw_orig/s1a-aux-cal.xml > ./s1a-iw1-slc-vv-20150310t134412-20150310t134424-004970-006386-001.xml\n",
    "!awk 'NR>1 {print $0}' < ../raw_orig/20150403_manifest.safe > tmp_file\n",
    "!cat ../raw_orig/s1a-iw1-slc-vv-20150403t134413-20150403t134424-005320-006bc4-001.xml tmp_file ../raw_orig/s1a-aux-cal.xml > ./s1a-iw1-slc-vv-20150403t134413-20150403t134424-005320-006bc4-001.xml\n",
    "!awk 'NR>1 {print $0}' < ../raw_orig/20150427_manifest.safe > tmp_file\n",
    "!cat ../raw_orig/s1a-iw1-slc-vv-20150427t134414-20150427t134426-005670-00745c-001.xml tmp_file ../raw_orig/s1a-aux-cal.xml > ./s1a-iw1-slc-vv-20150427t134414-20150427t134426-005670-00745c-001.xml\n",
    "!awk 'NR>1 {print $0}' < ../raw_orig/20150521_manifest.safe > tmp_file\n",
    "!cat ../raw_orig/s1a-iw1-slc-vv-20150521t134415-20150521t134427-006020-007c3f-001.xml tmp_file ../raw_orig/s1a-aux-cal.xml > ./s1a-iw1-slc-vv-20150521t134415-20150521t134427-006020-007c3f-001.xml\n",
    "!rm tmp_file\n",
    "!ln -s ../raw_orig/*EOF .\n",
    "!ln -s ../raw_orig/*tiff .\n",
    "!ln -s ../topo/dem.grd ."
   ]
  },
  {
   "cell_type": "markdown",
   "metadata": {},
   "source": [
    "Start batch preprocessing"
   ]
  },
  {
   "cell_type": "code",
   "execution_count": null,
   "metadata": {
    "vscode": {
     "languageId": "shellscript"
    }
   },
   "outputs": [],
   "source": [
    "!echo \"s1a-iw1-slc-vv-20150403t134413-20150403t134424-005320-006bc4-001:S1A_OPER_AUX_POEORB_OPOD_20150424T123026_V20150402T225944_20150404T005944.EOF\" > data.in\n",
    "!echo \"s1a-iw1-slc-vv-20150121t134413-20150121t134424-004270-005317-001:S1A_OPER_AUX_POEORB_OPOD_20150211T122339_V20150120T225944_20150122T005944.EOF\" >> data.in\n",
    "!echo \"s1a-iw1-slc-vv-20150310t134412-20150310t134424-004970-006386-001:S1A_OPER_AUX_POEORB_OPOD_20150331T123006_V20150309T225944_20150311T005944.EOF\" >> data.in\n",
    "!echo \"s1a-iw1-slc-vv-20150427t134414-20150427t134426-005670-00745c-001:S1A_OPER_AUX_POEORB_OPOD_20150518T122528_V20150426T225944_20150428T005944.EOF\" >> data.in\n",
    "!echo \"s1a-iw1-slc-vv-20150521t134415-20150521t134427-006020-007c3f-001:S1A_OPER_AUX_POEORB_OPOD_20150611T122710_V20150520T225944_20150522T005944.EOF\" >> data.in"
   ]
  },
  {
   "cell_type": "markdown",
   "metadata": {},
   "source": [
    "Get the baseline_time plot first, select the supermaster and mv it to the first line in data.in, save the baseline_table.dat for sbas use."
   ]
  },
  {
   "cell_type": "code",
   "execution_count": null,
   "metadata": {
    "vscode": {
     "languageId": "shellscript"
    }
   },
   "outputs": [],
   "source": [
    "!preproc_batch_tops.csh data.in dem.grd 2\n",
    "os.chdir(\"..\")"
   ]
  },
  {
   "cell_type": "markdown",
   "metadata": {},
   "source": [
    "In case there are clear burst boundaries, use *preproc_batch_tops_esd.csh* instead"
   ]
  },
  {
   "cell_type": "markdown",
   "metadata": {},
   "source": [
    "Create the files needed for intf_tops.csh"
   ]
  },
  {
   "cell_type": "code",
   "execution_count": null,
   "metadata": {
    "vscode": {
     "languageId": "shellscript"
    }
   },
   "outputs": [],
   "source": [
    "!rm -f intf.in\n",
    "!rm -r intf intf_all\n",
    "!echo \"S1_20150121_ALL_F1:S1_20150310_ALL_F1\" > intf.in\n",
    "!echo \"S1_20150121_ALL_F1:S1_20150403_ALL_F1\" >> intf.in\n",
    "!echo \"S1_20150121_ALL_F1:S1_20150427_ALL_F1\" >> intf.in\n",
    "!echo \"S1_20150310_ALL_F1:S1_20150403_ALL_F1\" >> intf.in\n",
    "!echo \"S1_20150310_ALL_F1:S1_20150427_ALL_F1\" >> intf.in\n",
    "!echo \"S1_20150310_ALL_F1:S1_20150521_ALL_F1\" >> intf.in\n",
    "!echo \"S1_20150403_ALL_F1:S1_20150427_ALL_F1\" >> intf.in\n",
    "!echo \"S1_20150403_ALL_F1:S1_20150521_ALL_F1\" >> intf.in\n",
    "!echo \"S1_20150427_ALL_F1:S1_20150521_ALL_F1\" >> intf.in"
   ]
  },
  {
   "cell_type": "markdown",
   "metadata": {},
   "source": [
    "Process the interferograms, remember to set your super master in the batch_tops.config file."
   ]
  },
  {
   "cell_type": "code",
   "execution_count": null,
   "metadata": {
    "vscode": {
     "languageId": "shellscript"
    }
   },
   "outputs": [],
   "source": [
    "!intf_tops.csh intf.in batch_tops.config"
   ]
  },
  {
   "cell_type": "markdown",
   "metadata": {},
   "source": [
    "After this is done, check the interferograms. You'll find there being a discontinuity in some of the interferograms. \n",
    "This can be resolved by using `preproc_batch_tops_esd.csh`. Modify the `README_prep.csh` and see what happens   \n",
    "Also note the ESD may not always make your results better."
   ]
  },
  {
   "cell_type": "markdown",
   "metadata": {},
   "source": [
    "Prepare the input files needed for sbas"
   ]
  },
  {
   "cell_type": "code",
   "execution_count": 10,
   "metadata": {
    "vscode": {
     "languageId": "shellscript"
    }
   },
   "outputs": [],
   "source": [
    "os.chdir(\"..\")"
   ]
  },
  {
   "cell_type": "code",
   "execution_count": 11,
   "metadata": {
    "vscode": {
     "languageId": "shellscript"
    }
   },
   "outputs": [
    {
     "name": "stdout",
     "output_type": "stream",
     "text": [
      "/Users/martinhawks/.Trash/SBAS\n",
      "grdinfo [ERROR]: Cannot find file ../intf_all/2015068_2015092/unwrap.grd\n",
      "grdinfo [ERROR]: Must specify one or more input files\n",
      "grdinfo [ERROR]: Cannot find file ../intf_all/2015068_2015092/unwrap.grd\n",
      "grdinfo [ERROR]: Must specify one or more input files\n",
      "\n",
      "compute RMS misfit\n",
      "compute DEM error\n",
      "\n",
      "setting smoothing to   1.000 \n",
      "setting radar wavelength to   0.055 m \n",
      "setting radar incidence angle to  30.000 degree \n",
      "setting range to 800184.946 m \n",
      "Required Memory Usage is 0.000013 GB ...\n",
      "Memory Allocation Successful...\n",
      "read table file ...\n",
      "number of SAR scenes is 5 \n",
      "number of interferograms is 9 \n",
      "read phase and correlation grids ...\n",
      "sbas [ERROR]: Cannot find file ../intf_all/2015020_2015068/corr.grd\n",
      "sbas [ERROR]: Cannot find file ../intf_all/2015020_2015068/corr.grd\n",
      "sbas [ERROR]: File ../intf_all/2015020_2015068/corr.grd not found\n",
      "[Session sbas (0)]: Error returned from GMT API: GMT_FILE_NOT_FOUND (16)\n",
      " Can't open  ../intf_all/2015020_2015068/corr.grd \n",
      "proj_ra2ll.csh\n",
      "grd2xyz [ERROR]: Cannot find file vel.grd\n",
      "grd2xyz [ERROR]: Cannot find file vel.grd\n",
      "grd2xyz [ERROR]: File vel.grd not found\n",
      "[Session gmt (0)]: Error returned from GMT API: GMT_FILE_NOT_FOUND (16)\n",
      "gmtinfo [ERROR]: No input data found!\n",
      "surface [ERROR]: Cannot find file trans.dat\n",
      "surface [ERROR]: Must specify -R option\n",
      "surface [INFORMATION]: Provides 5, expects 3-column binary data\n",
      "surface [ERROR]: Cannot find file trans.dat\n",
      "surface [ERROR]: Must specify -R option\n",
      "surface [INFORMATION]: Provides 5, expects 3-column binary data\n",
      "grdtrack [ERROR]: Cannot find file raln.grd\n",
      "grdtrack [ERROR]: Cannot find file ralt.grd\n",
      "grdtrack [ERROR]: Must specify -G at least once\n",
      "gmtconvert [WARNING]: File <stdin> is empty!\n",
      "gmtconvert [WARNING]: No data records provided\n",
      "ls: No match.\n",
      "Sampling in geocoordinates with deault (60 meter) pixel size ...\n",
      "gmtinfo [ERROR]: No input data found!\n",
      "range: Subscript out of range.\n",
      "gmtmath [ERROR]: Operation \"DIV\" requires 2 operands\n",
      "gmtmath [ERROR]: Operation \"MUL\" requires 2 operands\n",
      "gmtinfo [ERROR]: No input data found!\n",
      "blockmedian [ERROR]: Unable to decode  as a floating point number\n",
      "blockmedian [ERROR]: Option -I parsing failure.  Correct syntax:\n",
      "\n",
      "  -I<xinc>[+e|n][/<yinc>[+e|n]]\n",
      "     Specify increment(s) and optionally append units or modifiers. For\n",
      "     geographic regions in degrees you can optionally append units from this\n",
      "     list: (d)egree [Default], (m)inute, (s)econd, m(e)ter, (f)oot,\n",
      "     (k)ilometer, (M)ile, (n)autical mile, s(u)rvey foot.\n",
      "       +e Adjust the region to fit increments [Adjust increment to fit\n",
      "          domain].\n",
      "       +n Increment specifies the number of nodes instead. Then, the actual\n",
      "          increments are calculated from the given domain and node-\n",
      "          registration settings (see Appendix B for details).\n",
      "     Note: If -R<grdfile> was used then -I (and -R and maybe -r) have been set;\n",
      "     use -I to override those increments.\n",
      "blockmedian [ERROR]: Must specify -R option\n",
      "blockmedian [ERROR]: Option -I: Must specify positive increment(s)\n",
      "blockmedian [INFORMATION]: Provides 3, expects 3-column binary data\n",
      "xyz2grd [ERROR]: Unable to decode  as a floating point number\n",
      "xyz2grd [ERROR]: Option -I parsing failure.  Correct syntax:\n",
      "\n",
      "  -I<xinc>[+e|n][/<yinc>[+e|n]]\n",
      "     Specify increment(s) and optionally append units or modifiers. For\n",
      "     geographic regions in degrees you can optionally append units from this\n",
      "     list: (d)egree [Default], (m)inute, (s)econd, m(e)ter, (f)oot,\n",
      "     (k)ilometer, (M)ile, (n)autical mile, s(u)rvey foot.\n",
      "       +e Adjust the region to fit increments [Adjust increment to fit\n",
      "          domain].\n",
      "       +n Increment specifies the number of nodes instead. Then, the actual\n",
      "          increments are calculated from the given domain and node-\n",
      "          registration settings (see Appendix B for details).\n",
      "     Note: If -R<grdfile> was used then -I (and -R and maybe -r) have been set;\n",
      "     use -I to override those increments.\n",
      "xyz2grd [ERROR]: Must specify -R option\n",
      "xyz2grd [ERROR]: Option -I: Must specify positive increment(s)\n",
      "grd2cpt [ERROR]: Cannot find file vel_ll.grd\n",
      "grdinfo [ERROR]: Cannot find file vel_ll.grd\n",
      "grdinfo [ERROR]: Must specify one or more input files\n",
      "gmtmath [ERROR]: Operation \"INV\" requires 1 operands\n",
      "grdimage [ERROR]: Cannot find file vel_ll.grd\n",
      "Make vel_ll.kml and vel_ll.png\n",
      "psconvert [ERROR]: Option -E: No argument provided\n",
      "rm: No match.\n"
     ]
    }
   ],
   "source": [
    "!rm -fr SBAS\n",
    "!mkdir SBAS\n",
    "os.chdir(\"SBAS\")\n",
    "!pwd\n",
    "#\n",
    "# based on baseline_table.dat create the intf.tab and scene.tab for sbas\n",
    "#\n",
    "# phase  corherence  ref_id  rep_id  baseline\n",
    "!echo \"../intf_all/2015020_2015068/unwrap.grd ../intf_all/2015020_2015068/corr.grd 2015020 2015068 -90.333\" > intf.tab\n",
    "!echo \"../intf_all/2015020_2015092/unwrap.grd ../intf_all/2015020_2015092/corr.grd 2015020 2015092 -52.6118\" >> intf.tab\n",
    "!echo \"../intf_all/2015020_2015116/unwrap.grd ../intf_all/2015020_2015116/corr.grd 2015020 2015116 -83.0324\" >> intf.tab\n",
    "!echo \"../intf_all/2015068_2015092/unwrap.grd ../intf_all/2015068_2015092/corr.grd 2015068 2015092 37.7213\" >> intf.tab\n",
    "!echo \"../intf_all/2015068_2015116/unwrap.grd ../intf_all/2015068_2015116/corr.grd 2015068 2015116 7.30062\" >> intf.tab\n",
    "!echo \"../intf_all/2015068_2015140/unwrap.grd ../intf_all/2015068_2015140/corr.grd 2015068 2015140 -13.2457\" >> intf.tab\n",
    "!echo \"../intf_all/2015092_2015116/unwrap.grd ../intf_all/2015092_2015116/corr.grd 2015092 2015116 -30.4207\" >> intf.tab\n",
    "!echo \"../intf_all/2015092_2015140/unwrap.grd ../intf_all/2015092_2015140/corr.grd 2015092 2015140 -50.967\" >> intf.tab\n",
    "!echo \"../intf_all/2015116_2015140/unwrap.grd ../intf_all/2015116_2015140/corr.grd 2015116 2015140 -20.5463\" >> intf.tab\n",
    "#\n",
    "# scene_id  day\n",
    "!echo \"2015092 448\" > scene.tab\n",
    "!echo \"2015020 376\" >> scene.tab \n",
    "!echo \"2015068 424\" >> scene.tab\n",
    "!echo \"2015116 472\" >> scene.tab\n",
    "!echo \"2015140 496\" >> scene.tab\n",
    "!xdim=`gmt grdinfo -C ../intf_all/2015068_2015092/unwrap.grd | awk '{print $10}'`\n",
    "!ydim=`gmt grdinfo -C ../intf_all/2015068_2015092/unwrap.grd | awk '{print $11}'`\n",
    "#\n",
    "# run sbas\n",
    "#\n",
    "!sbas intf.tab scene.tab 9 5 \"$xdim\" \"$ydim\" -smooth 1.0 -wavelength 0.0554658 -incidence 30 -range 800184.946186 -rms -dem\n",
    "#\n",
    "# project the velocity to Geocooridnates\n",
    "#\n",
    "!ln -s ../topo/trans.dat .\n",
    "!proj_ra2ll.csh trans.dat vel.grd vel_ll.grd\n",
    "!gmt grd2cpt vel_ll.grd -T= -Z -Cjet > vel_ll.cpt\n",
    "!grd2kml.csh vel_ll vel_ll.cpt\n",
    "\n",
    "!cd ..\n"
   ]
  },
  {
   "cell_type": "code",
   "execution_count": 9,
   "metadata": {
    "vscode": {
     "languageId": "shellscript"
    }
   },
   "outputs": [
    {
     "name": "stdout",
     "output_type": "stream",
     "text": [
      "/Users/martinhawks/SchoolDocs/SAR_Prossesing/Jupyter-Main/Jupyter-Adaptation/test_GMTSAR/S1A_Stack_CPGF_T173_sbas_ready/SBAS/SBAS\n"
     ]
    },
    {
     "name": "stdout",
     "output_type": "stream",
     "text": [
      "ls: ../intf_all/2015020_2015068/corr.grd: No such file or directory\n"
     ]
    }
   ],
   "source": [
    "!pwd\n",
    "!ls ../intf_all/2015020_2015068/corr.grd"
   ]
  },
  {
   "cell_type": "markdown",
   "metadata": {},
   "source": [
    "Based on `baseline_table.dat` create the `intf.tab` and `scene.tab` for sbas"
   ]
  },
  {
   "cell_type": "code",
   "execution_count": null,
   "metadata": {
    "vscode": {
     "languageId": "shellscript"
    }
   },
   "outputs": [],
   "source": [
    "#     phase                                   corherence                           ref_id  rep_id  baseline\n",
    "!echo \"../intf_all/2015020_2015068/unwrap.grd ../intf_all/2015020_2015068/corr.grd 2015020 2015068 -90.333\" > intf.tab\n",
    "!echo \"../intf_all/2015020_2015092/unwrap.grd ../intf_all/2015020_2015092/corr.grd 2015020 2015092 -52.6118\" >> intf.tab\n",
    "!echo \"../intf_all/2015020_2015116/unwrap.grd ../intf_all/2015020_2015116/corr.grd 2015020 2015116 -83.0324\" >> intf.tab\n",
    "!echo \"../intf_all/2015068_2015092/unwrap.grd ../intf_all/2015068_2015092/corr.grd 2015068 2015092 37.7213\" >> intf.tab\n",
    "!echo \"../intf_all/2015068_2015116/unwrap.grd ../intf_all/2015068_2015116/corr.grd 2015068 2015116 7.30062\" >> intf.tab\n",
    "!echo \"../intf_all/2015068_2015140/unwrap.grd ../intf_all/2015068_2015140/corr.grd 2015068 2015140 -13.2457\" >> intf.tab\n",
    "!echo \"../intf_all/2015092_2015116/unwrap.grd ../intf_all/2015092_2015116/corr.grd 2015092 2015116 -30.4207\" >> intf.tab\n",
    "!echo \"../intf_all/2015092_2015140/unwrap.grd ../intf_all/2015092_2015140/corr.grd 2015092 2015140 -50.967\" >> intf.tab\n",
    "!echo \"../intf_all/2015116_2015140/unwrap.grd ../intf_all/2015116_2015140/corr.grd 2015116 2015140 -20.5463\" >> intf.tab"
   ]
  },
  {
   "cell_type": "code",
   "execution_count": null,
   "metadata": {
    "vscode": {
     "languageId": "shellscript"
    }
   },
   "outputs": [],
   "source": [
    "#     scene_id day\n",
    "!echo \"2015092 448\" > scene.tab\n",
    "!echo \"2015020 376\" >> scene.tab \n",
    "!echo \"2015068 424\" >> scene.tab\n",
    "!echo \"2015116 472\" >> scene.tab\n",
    "!echo \"2015140 496\" >> scene.tab"
   ]
  },
  {
   "cell_type": "markdown",
   "metadata": {},
   "source": [
    "Run sbas"
   ]
  },
  {
   "cell_type": "code",
   "execution_count": null,
   "metadata": {
    "vscode": {
     "languageId": "shellscript"
    }
   },
   "outputs": [],
   "source": [
    "!xdim=`gmt grdinfo -C ../intf_all/2015068_2015092/unwrap.grd | awk '{print $10}'`\n",
    "!ydim=`gmt grdinfo -C ../intf_all/2015068_2015092/unwrap.grd | awk '{print $11}'`\n",
    "!sbas intf.tab scene.tab 9 5 \"$xdim\" \"$ydim\" -smooth 1.0 -wavelength 0.0554658 -incidence 30 -range 800184.946186 -rms -dem"
   ]
  },
  {
   "cell_type": "markdown",
   "metadata": {},
   "source": [
    "Project the velocity to Geocooridnates"
   ]
  },
  {
   "cell_type": "code",
   "execution_count": null,
   "metadata": {
    "vscode": {
     "languageId": "shellscript"
    }
   },
   "outputs": [],
   "source": [
    "!ln -s ../topo/trans.dat .\n",
    "!proj_ra2ll.csh trans.dat vel.grd vel_ll.grd\n",
    "!gmt grd2cpt vel_ll.grd -T= -Z -Cjet > vel_ll.cpt\n",
    "!grd2kml.csh vel_ll vel_ll.cpt\n",
    "\n",
    "os.chdir(\"..\")"
   ]
  }
 ],
 "metadata": {
  "kernelspec": {
   "display_name": "Insar",
   "language": "python",
   "name": "python3"
  },
  "language_info": {
   "codemirror_mode": {
    "name": "ipython",
    "version": 3
   },
   "file_extension": ".py",
   "mimetype": "text/x-python",
   "name": "python",
   "nbconvert_exporter": "python",
   "pygments_lexer": "ipython3",
   "version": "3.11.5"
  },
  "orig_nbformat": 4
 },
 "nbformat": 4,
 "nbformat_minor": 2
}
