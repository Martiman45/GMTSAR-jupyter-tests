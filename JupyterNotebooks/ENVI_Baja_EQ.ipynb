{
 "cells": [
  {
   "cell_type": "markdown",
   "metadata": {},
   "source": [
    "February 17, 2011  \n",
    "Adapted to Jupyter on September 5, 2023\n",
    "\n",
    "Use the following command to process these ENVISAT data for the El Major-Cupacah earthquake.  \n",
    "Be sure to have the PRC orbital files for ENVI in the path set in your gmtsar_config file.  \n",
    "\n",
    "The directory /raw should contain the following two files.  Note the suffix .baq is required.  \n",
    "ESA have a suffix .N1.  You will need to change this to .baq.  The prefix stem name can ve anything.  \n",
    "\n",
    "ENV1_2_084_2943_2961_42222.baq\t\n",
    "ENV1_2_084_2943_2961_42723.baq\n",
    "\n",
    "The directory /topo should contain one file dem.grd.  \n",
    "This is most easily created using the following web-based tool.  \n",
    "http://topex.ucsd.edu/gmtsar/demgen/  \n",
    "\n",
    "### Commands for GMTSAR"
   ]
  },
  {
   "cell_type": "code",
   "execution_count": null,
   "metadata": {
    "vscode": {
     "languageId": "shellscript"
    }
   },
   "outputs": [],
   "source": [
    "pop_config.csh ENVI > config.txt\n",
    "p2p_processing.csh ENVI ENV1_2_084_2943_2961_42222 ENV1_2_084_2943_2961_42723 config.txt"
   ]
  }
 ],
 "metadata": {
  "language_info": {
   "name": "python"
  },
  "orig_nbformat": 4
 },
 "nbformat": 4,
 "nbformat_minor": 2
}
