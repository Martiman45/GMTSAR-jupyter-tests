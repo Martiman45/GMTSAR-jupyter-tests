{
 "cells": [
  {
   "cell_type": "markdown",
   "metadata": {},
   "source": [
    "February 6, 2019\n",
    "\n",
    "This is an example data set that computes a ScanSAR interferogram of the San Andreas Fault in Southern California using ALOS2 data. This example employs new scripts available only in the latest version of the GMTSAR trunk.\n",
    "\n",
    "Before running this example, make sure that the following files are in the /raw directory:\n",
    "\n",
    "IMG-HH-ALOS2022872950-141025-WBDR1.1__D-F1 IMG-HH-ALOS2029082950-141206-WBDR1.1__D-F1  \n",
    "IMG-HH-ALOS2022872950-141025-WBDR1.1__D-F2 IMG-HH-ALOS2029082950-141206-WBDR1.1__D-F2  \n",
    "IMG-HH-ALOS2022872950-141025-WBDR1.1__D-F3 IMG-HH-ALOS2029082950-141206-WBDR1.1__D-F3  \n",
    "IMG-HH-ALOS2022872950-141025-WBDR1.1__D-F4 IMG-HH-ALOS2029082950-141206-WBDR1.1__D-F4  \n",
    "IMG-HH-ALOS2022872950-141025-WBDR1.1__D-F5 IMG-HH-ALOS2029082950-141206-WBDR1.1__D-F5  \n",
    "LED-HH-ALOS2022872950-141025-WBDR1.1__D    LED-HH-ALOS2029082950-141206-WBDR1.1__D  \n",
    "\n",
    "\n",
    "\n",
    "The options modifying this command are the roots of the raw data files, the config file, and a processing factor.  \n",
    "If the processing factor is equal to 1, than the ScanSAR frames will process in parallel.  \n",
    "If the processing factor is equal to 0, than the ScanSAR frames will process sequentially. This is better for machines with less memory.\n"
   ]
  },
  {
   "cell_type": "code",
   "execution_count": null,
   "metadata": {
    "vscode": {
     "languageId": "shellscript"
    }
   },
   "outputs": [],
   "source": [
    "pop_config.csh ALOS2_SCAN > config.txt\n",
    "p2p_ALOS2_SCAN_Frame.csh IMG-HH-ALOS2022872950-141025-WBDR1.1__D IMG-HH-ALOS2029082950-141206-WBDR1.1__D config.txt 0"
   ]
  }
 ],
 "metadata": {
  "language_info": {
   "name": "python"
  },
  "orig_nbformat": 4
 },
 "nbformat": 4,
 "nbformat_minor": 2
}
