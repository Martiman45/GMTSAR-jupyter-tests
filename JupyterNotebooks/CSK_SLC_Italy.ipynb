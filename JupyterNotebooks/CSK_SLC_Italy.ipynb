{
 "cells": [
  {
   "cell_type": "markdown",
   "metadata": {},
   "source": [
    "January 20, 2016  \n",
    "Revised January 29, 2019  \n",
    "Adapted to Jupyer on September 5, 2023\n",
    "\n",
    "This is an example set of COSMOS-SkyMed SLC images for an example interferogram.  The region is in Central Italy and the Pair spans the L'Aquela Earthquake.  Unfortunately the baseline is rather long\n",
    "\n",
    "The file configure.csk.txt contains reasonable processing parammeters.  Note the /topo directory already contains a file dem.grd that is needed for removal of the topographic phase.  There is a  web site http://topex.ucsd.edu/gmtsar that will generate a dem.grd file for a selected area based on the best available data (SRTM or ASTER).\n",
    "\n",
    "#### GMTSAR commands"
   ]
  },
  {
   "cell_type": "code",
   "execution_count": null,
   "metadata": {
    "vscode": {
     "languageId": "shellscript"
    }
   },
   "outputs": [],
   "source": [
    "pop_config.csh CSK_SLC > config.txt\n",
    "p2p_processing.csh CSK_SLC CSKS2_SCS_B_HI_09_HH_RA_SF_20090412050638_20090412050645 CSKS2_SCS_B_HI_09_HH_RA_SF_20090514050618_20090514050626 config.txt"
   ]
  }
 ],
 "metadata": {
  "language_info": {
   "name": "python"
  },
  "orig_nbformat": 4
 },
 "nbformat": 4,
 "nbformat_minor": 2
}
