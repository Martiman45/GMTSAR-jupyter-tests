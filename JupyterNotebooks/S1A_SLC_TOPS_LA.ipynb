{
 "cells": [
  {
   "cell_type": "markdown",
   "metadata": {},
   "source": [
    "March 8, 2019  \n",
    "Adapted to Jupyter September 5, 2023\n",
    "\n",
    "*Note: This notebook is untested*\n",
    "\n",
    "This is an example script to process a swath of TOPS mode SAR data collected by the Sentinel 1A satellite.  \n",
    "It will process every subswath and merge the resulting interferograms.  \n",
    "To process only a single subswath, look at the S1A_SLC_TOPS_Greece example.\n",
    "\n",
    "The final results may be found in the merge folder.  \n",
    "Interferograms for each individual subswath may be found in the F1, F2, and F3 folders.\n",
    "\n",
    "1. make a standard config file"
   ]
  },
  {
   "cell_type": "code",
   "execution_count": null,
   "metadata": {
    "vscode": {
     "languageId": "shellscript"
    }
   },
   "outputs": [],
   "source": [
    "!pop_config.csh S1_TOPS > config.txt"
   ]
  },
  {
   "cell_type": "markdown",
   "metadata": {},
   "source": [
    "2. make a merged interferogram"
   ]
  },
  {
   "cell_type": "code",
   "execution_count": null,
   "metadata": {
    "vscode": {
     "languageId": "shellscript"
    }
   },
   "outputs": [],
   "source": [
    "!p2p_S1_TOPS_Frame.csh S1A_IW_SLC__1SSV_20150526T014935_20150526T015002_006086_007E23_679A.SAFE S1A_OPER_AUX_POEORB_OPOD_20150615T155109_V20150525T225944_20150527T005944.EOF S1A_IW_SLC__1SDV_20150607T014936_20150607T015003_006261_00832E_3626.SAFE S1A_OPER_AUX_POEORB_OPOD_20150627T155155_V20150606T225944_20150608T005944.EOF config.txt vv 0"
   ]
  },
  {
   "cell_type": "markdown",
   "metadata": {},
   "source": [
    "*The final argument of the script is a processing factor that governs whether the subswaths will be processed sequentially or in parallel.  \n",
    "A processing factor of 1 will have the script process the subswaths in parallel.  \n",
    "A processing factor of 0 will have the script process the subswaths sequentially. This is better for computers less memory, but takes longer to executes.*"
   ]
  }
 ],
 "metadata": {
  "language_info": {
   "name": "python"
  },
  "orig_nbformat": 4
 },
 "nbformat": 4,
 "nbformat_minor": 2
}
