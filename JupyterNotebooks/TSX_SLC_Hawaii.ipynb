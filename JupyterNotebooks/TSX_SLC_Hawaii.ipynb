{
 "cells": [
  {
   "cell_type": "markdown",
   "metadata": {},
   "source": [
    "February 5, 2014  \n",
    "Revised January 29, 2019  \n",
    "Adapted to Jupyter September 5, 2023\n",
    "\n",
    "This is an example set of TerraSAR-X SLC images for an example interferogram.  The region is in Hawaii and is centered on the Kilauea Caldera. The data are part of the Hawaii Supersite.\n",
    "\n",
    "The file configure.csk.txt contains reasonable processing parameters.  Note the /topo directory already contains a file dem.grd that is needed for removal of the topographic phase.  There is a  web site http://topex.ucsd.edu/gmtsar that will generate a dem.grd file for a selected area based on the best available data (SRTM or ASTER).\n",
    "\n",
    "#### Use these instructions if you are using the GMTSAR trunk:\n",
    "\n",
    "1. This code requires the raw data files to be in the same directory.  \n",
    "Of course, this is not ideal for keeping different data sets organized, but we may fulfill both tasks by linking the requisite files into the raw directory."
   ]
  },
  {
   "cell_type": "code",
   "execution_count": null,
   "metadata": {
    "vscode": {
     "languageId": "shellscript"
    }
   },
   "outputs": [],
   "source": [
    "!cd raw\n",
    "!ln -s dims_op_oc_dfd2_370205611_1/TSX-1.SAR.L1B/TSX1_SAR__SSC______SM_S_SRA_20120615T162057_20120615T162105/TSX1_SAR__SSC______SM_S_SRA_20120615T162057_20120615T162105.xml ./TSX20120615.xml\n",
    "!ln -s dims_op_oc_dfd2_370205611_1/TSX-1.SAR.L1B/TSX1_SAR__SSC______SM_S_SRA_20120615T162057_20120615T162105/IMAGEDATA/IMAGE_HH_SRA_strip_007.cos ./TSX20120615.cos\n",
    "!ln -s dims_op_oc_dfd2_370849225_1/TSX-1.SAR.L1B/TSX1_SAR__SSC______SM_S_SRA_20121208T162059_20121208T162107/TSX1_SAR__SSC______SM_S_SRA_20121208T162059_20121208T162107.xml ./TSX20121208.xml\n",
    "!ln -s dims_op_oc_dfd2_370849225_1/TSX-1.SAR.L1B/TSX1_SAR__SSC______SM_S_SRA_20121208T162059_20121208T162107/IMAGEDATA/IMAGE_HH_SRA_strip_007.cos ./TSX20121208.cos"
   ]
  },
  {
   "cell_type": "markdown",
   "metadata": {},
   "source": [
    "2. Now we may create the interferogram by running the the p2p code:"
   ]
  },
  {
   "cell_type": "code",
   "execution_count": null,
   "metadata": {
    "vscode": {
     "languageId": "shellscript"
    }
   },
   "outputs": [],
   "source": [
    "!cd ..\n",
    "!pop_config.csh TSX > config.txt\n",
    "!p2p_processing.csh TSX TSX20120615 TSX20121208 config.txt"
   ]
  }
 ],
 "metadata": {
  "language_info": {
   "name": "python"
  },
  "orig_nbformat": 4
 },
 "nbformat": 4,
 "nbformat_minor": 2
}
