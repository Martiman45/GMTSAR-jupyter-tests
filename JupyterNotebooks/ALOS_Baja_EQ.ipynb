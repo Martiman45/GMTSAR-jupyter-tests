{
 "cells": [
  {
   "cell_type": "markdown",
   "metadata": {},
   "source": [
    "February 17, 2011  \n",
    "David T. Sandwell  \n",
    "Adapted to Jupyter on September 5, 2023\n",
    "\n",
    "This is an example set of ALOS PALSAR data to make an interferogram of T212, F0640 spanning the M7.2 Easter Sunday Earthquake in Northern Baja California.  The raw data consist of an FBS image before the earthquake and an FBD image after the earthquake.  The file config.ALOS.txt contains reasonable processing parameters.  \n",
    "\n",
    "The /raw directory should contain 4 files.  \n",
    "`IMG-HH-ALPSRP207600640-H1.0__A`  \n",
    "`LED-ALPSRP207600640-H1.0__A`  \n",
    "`IMG-HH-ALPSRP227730640-H1.0__A`  \n",
    "`LED-ALPSRP227730640-H1.0__A`  \n",
    "\n",
    "These are the names provided by JAXA AUIG and it is important to have this name format.  If you have ERSDAC data, the simplest approach is to rename the files using this format.  The number 207600640 must simply have the correct number of digits and the IMG and LED numbers should match for each scene.  \n",
    "\n",
    "Note the /topo directory already contains a file dem.grd that is needed for removal of the topographic phase.  There is a web site http://topex.ucsd.edu/gmtsar that will generate a dem.grd file for a selected area based on the best available data (SRTM or ASTER).  \n",
    "\n",
    "#### Command for GMTSAR\n"
   ]
  },
  {
   "cell_type": "code",
   "execution_count": null,
   "metadata": {
    "vscode": {
     "languageId": "shellscript"
    }
   },
   "outputs": [],
   "source": [
    "pop_config.csh ALOS > config.txt\n",
    "p2p_processing.csh ALOS IMG-HH-ALPSRP207600640-H1.0__A IMG-HH-ALPSRP227730640-H1.0__A"
   ]
  }
 ],
 "metadata": {
  "language_info": {
   "name": "python"
  },
  "orig_nbformat": 4
 },
 "nbformat": 4,
 "nbformat_minor": 2
}
