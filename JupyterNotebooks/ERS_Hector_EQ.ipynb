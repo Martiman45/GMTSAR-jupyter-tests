{
 "cells": [
  {
   "cell_type": "markdown",
   "metadata": {},
   "source": [
    "February 17, 2011  \n",
    "Adapted to Jupyter on September 5, 2023\n",
    "\n",
    "Use the following command to process an ERS interferogram for the Hector Mine Earthquake.  \n",
    "Be sure to have the PRC orbital files for ERS in the path set in your gmtsar_config file.\n",
    "\n",
    "The /raw directory should contain 4 files.  \n",
    "e2_127_2907_23027.dat  \n",
    "e2_127_2907_23027.ldr  \n",
    "e2_127_2907_23528.dat  \n",
    "e2_127_2907_23528.ldr  \n",
    "Note the suffixes .dat and .ldr are required.  \n",
    "\n",
    "The /topo files should contain the file dem.grd.  This is most easily created using the following web-based tool.  \n",
    "http://topex.ucsd.edu/gmtsar/demgen/\n",
    "\n",
    "### Commands for GMTSAR"
   ]
  },
  {
   "cell_type": "code",
   "execution_count": null,
   "metadata": {
    "vscode": {
     "languageId": "shellscript"
    }
   },
   "outputs": [],
   "source": [
    "pop_config.csh ERS > config.txt\n",
    "p2p_processing.csh ERS e2_127_2907_23027 e2_127_2907_23528 config.txt"
   ]
  }
 ],
 "metadata": {
  "language_info": {
   "name": "python"
  },
  "orig_nbformat": 4
 },
 "nbformat": 4,
 "nbformat_minor": 2
}
