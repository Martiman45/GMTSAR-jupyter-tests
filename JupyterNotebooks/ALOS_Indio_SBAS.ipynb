{
 "cells": [
  {
   "cell_type": "markdown",
   "metadata": {},
   "source": [
    "# sbas   v1.0\n",
    "\n",
    "July 25 2014  \n",
    "Xiaopeng Tong  \n",
    "Adapted to Jupyter on September 6, 2023\n",
    "\n",
    "This directory contains the C program sbas.c and a makefile. The method is a modified version of the Small-BAseline Subset method (SBAS). It is developed to improve InSAR time-series analysis. This C program is currently implemented in GMTSAR but need to be compiled separately. Now it can be compiled under OSX. Modifications to compile under linux are underway. If you find a bug or have any questions/suggestions, please contact xitong@uw.edu.\n",
    "\n",
    "#### INSTRUCTIONS FOR INSTALLING AND RUNNING SBAS\n",
    "\n",
    "-------\n",
    "To install sbas go into directory $GMTSARHOME/gmtsar/src/sbas and type \"make\" then \"make install\". Then open a new terminal, type \"sbas\"to see if the installation goes well. \n",
    "\n",
    "******************************************************************************************************\n",
    "To run the program, you need to provide into.tab and scene.tab and all the unwrapped phase and correlation grids. Both radar and geographic coordinate can work. You need also provide number of interferograms, number of SAR scenes, and the dimensions of the interferograms. Type \"sbas\" and the syntax will be printed. \n",
    "\n",
    "USAGE: sbas intf.tab scene.tab N S xdim ydim [-smooth sf] [-wavelength wl] [-incidence inc] [-range -rng] [-season] [-rms] [-dem]\n",
    "\n",
    " input: \n",
    "intf.tab\t\t--  list of unwrapped (filtered) interferograms:\n",
    "   format:   unwrap.grd  corr.grd  ref_id  rep_id  B_perp \n",
    "scene.tab\t\t--  list of the SAR scenes in chronological order\n",
    "   format:   scene_id   number_of_days \n",
    "N             \t\t--  number of the interferograms\n",
    "S             \t\t--  number of the SAR scenes \n",
    "xdim and ydim \t\t--  dimension of the interferograms\n",
    "-smooth sf\t\t--  smoothing factors, default=0 \n",
    "-wavelength wl\t\t--  wavelength of the radar wave (m) default=0.236 \n",
    "-incidence theta \t--  incidence angle of the radar wave (degree) default=37 \n",
    "-range rng \t\t--  range distance from the radar to the center of the interferogram (m) default=866000 \n",
    "-season \t\t--  output seasonal terms grids: amp.grd (mm) shift.grd (deg) \n",
    "-rms \t\t\t--  output RMS of the data misfit grids (mm): rms.grd\n",
    "-dem \t\t\t--  output DEM error (m): dem.grd \n",
    "\n",
    " output: \n",
    "disp_##.grd   \t\t--  cumulative displacement time series (mm) grids\n",
    "vel.grd \t\t--  mean velocity (mm/yr) grids \n",
    "\n",
    " example:\n",
    "   sbas intf.tab scene.tab 88 28 700 1000 \n",
    "\n",
    "******************************************************************************************************\n",
    "To run sbas on the test data set, go to GMTSAR website to download the test data ALOS_Indio.tar. This data is from ALOS-1 ascending track, T213 F660. The region covers Indio, Coachella in Southern California. Unpack it and go to that directory. Type runSBAS.csh to run. The results will be plotted. If you install ffmpeg, you will be able to make a movie of the displacement time series by modifying slightly runSBAS.csh. The girds are all in radar coordinates. There is a trans.dat file that you can use to transform the radar coordinate to geography coordinate."
   ]
  },
  {
   "cell_type": "code",
   "execution_count": null,
   "metadata": {
    "vscode": {
     "languageId": "shellscript"
    }
   },
   "outputs": [],
   "source": [
    "runSBAS.csh"
   ]
  }
 ],
 "metadata": {
  "language_info": {
   "name": "python"
  },
  "orig_nbformat": 4
 },
 "nbformat": 4,
 "nbformat_minor": 2
}
