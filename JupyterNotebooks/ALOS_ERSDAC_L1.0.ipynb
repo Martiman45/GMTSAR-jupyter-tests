{
 "cells": [
  {
   "cell_type": "markdown",
   "metadata": {},
   "source": [
    "February 18, 2015  \n",
    "David T. Sandwell  \n",
    "Adapted to Jupyter September 6, 2023\n",
    "\n",
    "This is an example to process ALOS L1.0 in the ERSDAC format.  The region is near Palm Springs.\n",
    "T213 F0660\n",
    "\n",
    "First rename the ERSDAC filenames to corresponding AUIG filenames. Constructing the AUIG names requires\n",
    "a bit of searching around in the *.meta files. Why are there two different formats for the dame data!!!!!!\n",
    "The number 230210660 must simply have the correct number of digits and the IMG and LED numbers should match for each scene.\n",
    "\n",
    "```\n",
    "mv PASL10C1005210615471008110011.raw IMG-HH-ALPSRP230210660-H1.1__A  \n",
    "mv PASL10C1005210615471008110011.ldr LED-ALPSRP230210660-H1.1__A  \n",
    "mv PASL10C1007060615191008110012.ldr LED-ALPSRP236920660-H1.1__A  \n",
    "mv PASL10C1007060615191008110012.raw IMG-HH-ALPSRP236920660-H1.1__A  \n",
    "```\n",
    "\n",
    "Now the raw directory should have the following 4 files.\n",
    "```  \n",
    "-rwxr-xr-x+ 1 sandwell  admin  677134452 Feb 18 08:07 IMG-HH-ALPSRP230210660-H1.1__A  \n",
    "-rwxr-xr-x+ 1 sandwell  admin  677134452 Feb 18 08:07 IMG-HH-ALPSRP236920660-H1.1__A  \n",
    "-rwxr-xr-x+ 1 sandwell  admin      13776 Feb 18 07:35 LED-ALPSRP230210660-H1.1__A  \n",
    "-rwxr-xr-x+ 1 sandwell  admin      13776 Feb 18 07:34 LED-ALPSRP236920660-H1.1__A  \n",
    "```\n",
    "\n",
    "Next run the job.\n",
    "\n",
    "#### Command for GMTSAR\n",
    "\n"
   ]
  },
  {
   "cell_type": "code",
   "execution_count": null,
   "metadata": {
    "vscode": {
     "languageId": "shellscript"
    }
   },
   "outputs": [],
   "source": [
    "!pop_config.csh ALOS > config.txt\n",
    "!p2p_processing.csh ALOS IMG-HH-ALPSRP230210660-H1.1__A IMG-HH-ALPSRP236920660-H1.1__A config.txt"
   ]
  },
  {
   "cell_type": "markdown",
   "metadata": {},
   "source": [
    "The resulting corr_ll should look like this:\n",
    "\n",
    "![corr_ll](images/ALOS_ERSDAC_L1.0.png)"
   ]
  },
  {
   "cell_type": "markdown",
   "metadata": {},
   "source": []
  }
 ],
 "metadata": {
  "language_info": {
   "name": "python"
  },
  "orig_nbformat": 4
 },
 "nbformat": 4,
 "nbformat_minor": 2
}
