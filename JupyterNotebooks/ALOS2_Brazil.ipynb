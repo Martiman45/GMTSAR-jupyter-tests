{
 "cells": [
  {
   "cell_type": "markdown",
   "metadata": {},
   "source": [
    "January 14, 2015  \n",
    "David T. Sandwell  \n",
    "Adapted to Jupyter on September 5, 2023\n",
    "\n",
    "This is an example set of ALOS-2 PALSAR data to make an interferogram of an area in Brazil starting with L1.1 (SLC) images.\n",
    "\n",
    "The /raw directory should contain 4 files.  \n",
    "```\n",
    "IMG-HH-ALOS2011986990-140813-HBQR1.1__A\t \n",
    "LED-ALOS2011986990-140813-HBQR1.1__A\n",
    "IMG-HH-ALOS2014056990-140827-HBQR1.1__A\t \n",
    "LED-ALOS2014056990-140827-HBQR1.1__A\n",
    "```\n",
    "\n",
    "Note the /topo directory already contains a file dem.grd that is needed for removal of the topographic phase.  There is a web site http://topex.ucsd.edu/gmtsar that will generate a dem.grd file for a selected area based on the best available data (SRTM or ASTER).\n",
    "\n",
    "#### Command for GMTSAR"
   ]
  },
  {
   "cell_type": "code",
   "execution_count": null,
   "metadata": {
    "vscode": {
     "languageId": "shellscript"
    }
   },
   "outputs": [],
   "source": [
    "!pop_config.csh ALOS2 > config.txt\n",
    "!p2p_processing.csh ALOS2 IMG-HH-ALOS2011986990-140813-HBQR1.1__A IMG-HH-ALOS2014056990-140827-HBQR1.1__A config.txt"
   ]
  },
  {
   "cell_type": "markdown",
   "metadata": {},
   "source": [
    "Note you can edit the config.txt file to change parameters such as whether to unwrap the phase \n",
    "threshold_snaphu = 0.05"
   ]
  },
  {
   "cell_type": "markdown",
   "metadata": {},
   "source": [
    "The cor_ll.kml file in google earth:  \n",
    "\n",
    "![cor_ll](images/ALOS2_Brazil.png)"
   ]
  },
  {
   "cell_type": "markdown",
   "metadata": {},
   "source": []
  }
 ],
 "metadata": {
  "language_info": {
   "name": "python"
  },
  "orig_nbformat": 4
 },
 "nbformat": 4,
 "nbformat_minor": 2
}
