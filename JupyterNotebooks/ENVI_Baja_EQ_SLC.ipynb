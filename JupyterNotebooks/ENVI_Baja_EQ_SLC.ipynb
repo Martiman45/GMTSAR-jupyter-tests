{
 "cells": [
  {
   "cell_type": "markdown",
   "metadata": {},
   "source": [
    "April 14, 2017  \n",
    "Adapted to Jupyter on September 5, 2023\n",
    "\n",
    "Example of InSAR using the new SLC file format provided for ERS-1/2 and Envisat.  \n",
    "\n",
    "The directory /raw should contain the following two files.  \n",
    "*Note the suffix .N1 is required for Envisat.  \n",
    "The suffix .E1 is required for ERS-1  \n",
    "The suffix .E2 is required for ERS-2*  \n",
    "\n",
    "```\n",
    "ASA_IMS_1PNESA20100328_175019_000000152088_00084_42222_0000.N1  \n",
    "ASA_IMS_1PNESA20100502_175016_000000152089_00084_42723_0000.N1\n",
    "```  \n",
    "\n",
    "The directory /topo should contain one file dem.grd.  \n",
    "This is most easily created using the following web-based tool.  \n",
    "http://topex.ucsd.edu/gmtsar/demgen/\n",
    "\n",
    "Use the following command to process these ENVISAT SLC data for the El Major-Cupacah earthquake.  \n",
    "Be sure to have the PRC orbital files for ENVI.\n",
    "\n",
    "### Commands for GMTSAR"
   ]
  },
  {
   "cell_type": "code",
   "execution_count": null,
   "metadata": {
    "vscode": {
     "languageId": "shellscript"
    }
   },
   "outputs": [],
   "source": [
    "pop_config.csh ENVI > config.txt\n",
    "p2p_processing.csh ENVI_SLC ASA_IMS_1PNESA20100328_175017_000000182088_00084_42222_0000 ASA_IMS_1PNESA20100502_175015_000000182089_00084_42723_0000 config.txt"
   ]
  }
 ],
 "metadata": {
  "language_info": {
   "name": "python"
  },
  "orig_nbformat": 4
 },
 "nbformat": 4,
 "nbformat_minor": 2
}
