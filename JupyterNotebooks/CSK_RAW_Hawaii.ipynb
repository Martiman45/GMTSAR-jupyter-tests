{
 "cells": [
  {
   "cell_type": "markdown",
   "metadata": {},
   "source": [
    "January 19, 2016  \n",
    "Revised January 29, 2019  \n",
    "Adapted to Jupyter on September 5, 2023\n",
    "\n",
    "This is an example set of COSMOS-SkyMed RAW images for an example interferogram. The region is in Hawaii and is centered on the Kilauea Caldera. The data are part of the Hawaii Supersite.\n",
    "\n",
    "The file configure.csk.txt contains reasonable processing parammeters. Note the /topo directory already contains a file dem.grd that is needed for removal of the topographic phase. There is a  web site http://topex.ucsd.edu/gmtsar that will generate a dem.grd file for a selected area based on the best available data (SRTM or ASTER).\n",
    "\n",
    "\n",
    "Create the interferogram by running the p2p code:"
   ]
  },
  {
   "cell_type": "code",
   "execution_count": null,
   "metadata": {
    "vscode": {
     "languageId": "shellscript"
    }
   },
   "outputs": [],
   "source": [
    "!pop_config.csh CSK_RAW > config.txt\n",
    "!p2p_processing.csh CSK_RAW CSKS2_RAW_B_HI_10_HH_RD_SF_20140105040332_20140105040340 CSKS2_RAW_B_HI_10_HH_RD_SF_20140121040327_20140121040334 config.txt"
   ]
  },
  {
   "cell_type": "markdown",
   "metadata": {},
   "source": [
    "the resulting cor_ll should look like this:\n",
    "\n",
    "![cor_ll](images/CSK_RAW_Hawaii.png)"
   ]
  }
 ],
 "metadata": {
  "language_info": {
   "name": "python"
  },
  "orig_nbformat": 4
 },
 "nbformat": 4,
 "nbformat_minor": 2
}
