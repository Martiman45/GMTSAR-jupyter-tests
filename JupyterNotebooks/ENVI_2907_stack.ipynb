{
 "cells": [
  {
   "cell_type": "markdown",
   "metadata": {},
   "source": [
    "This is an example of aligning 3 Envisat SAR images for forming an interferograms to test for phase closure\n",
    "\n",
    "David Sandwell - January 19, 2016  \n",
    "Adapted to Jupyter on September 5, 2023\n",
    "\n",
    "1. do the pre processing"
   ]
  },
  {
   "cell_type": "code",
   "execution_count": null,
   "metadata": {
    "vscode": {
     "languageId": "shellscript"
    }
   },
   "outputs": [],
   "source": [
    "cd raw\n",
    "pre_proc_batch.csh ENVI data.in batch.config"
   ]
  },
  {
   "cell_type": "markdown",
   "metadata": {},
   "source": [
    "you can look at the baseline versus time plot"
   ]
  },
  {
   "cell_type": "code",
   "execution_count": null,
   "metadata": {
    "vscode": {
     "languageId": "shellscript"
    }
   },
   "outputs": [],
   "source": [
    "open stacktable_all.ps\n",
    "cd .."
   ]
  },
  {
   "cell_type": "markdown",
   "metadata": {},
   "source": [
    "2. now align the images"
   ]
  },
  {
   "cell_type": "code",
   "execution_count": null,
   "metadata": {
    "vscode": {
     "languageId": "shellscript"
    }
   },
   "outputs": [],
   "source": [
    "ln -s raw/data.in .\n",
    "align_batch.csh RAW 0 data.in"
   ]
  },
  {
   "cell_type": "markdown",
   "metadata": {},
   "source": [
    "3. now make the interferograms and unwrap the phase, don't detrend"
   ]
  },
  {
   "cell_type": "code",
   "execution_count": null,
   "metadata": {
    "vscode": {
     "languageId": "shellscript"
    }
   },
   "outputs": [],
   "source": [
    "intf_batch.csh ENVI intf.in intf.config"
   ]
  },
  {
   "cell_type": "markdown",
   "metadata": {},
   "source": [
    "4. sum the LOS data to look at the residuals"
   ]
  },
  {
   "cell_type": "code",
   "execution_count": null,
   "metadata": {
    "vscode": {
     "languageId": "shellscript"
    }
   },
   "outputs": [],
   "source": [
    "cd intf\n",
    "gmt grdmath 2003251_2005325/los.grd 2004201_2003251/los.grd ADD 2005325_2004201/los.grd ADD = los_sum_3ADD.grd\n",
    "gmt grdmath 2003251_2005325/los.grd 2004201_2003251/los.grd ADD 2004201_2005325/los.grd SUB = los_sum_2ADD_1SUB.grd"
   ]
  }
 ],
 "metadata": {
  "language_info": {
   "name": "python"
  },
  "orig_nbformat": 4
 },
 "nbformat": 4,
 "nbformat_minor": 2
}
