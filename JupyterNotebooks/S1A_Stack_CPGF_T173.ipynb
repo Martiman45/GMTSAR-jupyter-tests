{
 "cells": [
  {
   "cell_type": "markdown",
   "metadata": {},
   "source": [
    "Script to batch process a Sentinel-1a TOPS mode data set and create time series.\n",
    "\n",
    "\n",
    "***Curently not working - use readme files instead***\n",
    "  \n",
    "Xiaohua(Eric) Xu  \n",
    "June 2016  \n",
    "Adapted to Jupyter September 5, 2023\n",
    "\n",
    "First, prepare the files"
   ]
  },
  {
   "cell_type": "code",
   "execution_count": 2,
   "metadata": {
    "vscode": {
     "languageId": "shellscript"
    }
   },
   "outputs": [],
   "source": [
    "import os\n",
    "!rm -rf raw\n",
    "!mkdir raw\n",
    "os.chdir(\"raw\")"
   ]
  },
  {
   "cell_type": "markdown",
   "metadata": {},
   "source": [
    "In order to correct for Elevation Antenna Pattern Change, cat the manifest and aux files to the xmls and\n",
    "delete the first line of the manifest file as it's not a typical xml file."
   ]
  },
  {
   "cell_type": "code",
   "execution_count": 3,
   "metadata": {
    "vscode": {
     "languageId": "shellscript"
    }
   },
   "outputs": [],
   "source": [
    "!awk 'NR>1 {print $0}' < ../raw_orig/20150121_manifest.safe > tmp_file\n",
    "!cat ../raw_orig/s1a-iw1-slc-vv-20150121t134413-20150121t134424-004270-005317-001.xml tmp_file ../raw_orig/s1a-aux-cal.xml > ./s1a-iw1-slc-vv-20150121t134413-20150121t134424-004270-005317-001.xml\n",
    "!awk 'NR>1 {print $0}' < ../raw_orig/20150310_manifest.safe > tmp_file\n",
    "!cat ../raw_orig/s1a-iw1-slc-vv-20150310t134412-20150310t134424-004970-006386-001.xml tmp_file ../raw_orig/s1a-aux-cal.xml > ./s1a-iw1-slc-vv-20150310t134412-20150310t134424-004970-006386-001.xml\n",
    "!awk 'NR>1 {print $0}' < ../raw_orig/20150403_manifest.safe > tmp_file\n",
    "!cat ../raw_orig/s1a-iw1-slc-vv-20150403t134413-20150403t134424-005320-006bc4-001.xml tmp_file ../raw_orig/s1a-aux-cal.xml > ./s1a-iw1-slc-vv-20150403t134413-20150403t134424-005320-006bc4-001.xml\n",
    "!awk 'NR>1 {print $0}' < ../raw_orig/20150427_manifest.safe > tmp_file\n",
    "!cat ../raw_orig/s1a-iw1-slc-vv-20150427t134414-20150427t134426-005670-00745c-001.xml tmp_file ../raw_orig/s1a-aux-cal.xml > ./s1a-iw1-slc-vv-20150427t134414-20150427t134426-005670-00745c-001.xml\n",
    "!awk 'NR>1 {print $0}' < ../raw_orig/20150521_manifest.safe > tmp_file\n",
    "!cat ../raw_orig/s1a-iw1-slc-vv-20150521t134415-20150521t134427-006020-007c3f-001.xml tmp_file ../raw_orig/s1a-aux-cal.xml > ./s1a-iw1-slc-vv-20150521t134415-20150521t134427-006020-007c3f-001.xml\n",
    "!rm tmp_file\n",
    "!ln -s ../raw_orig/*EOF .\n",
    "!ln -s ../raw_orig/*tiff .\n",
    "!ln -s ../topo/dem.grd ."
   ]
  },
  {
   "cell_type": "markdown",
   "metadata": {},
   "source": [
    "Start batch preprocessing"
   ]
  },
  {
   "cell_type": "code",
   "execution_count": 4,
   "metadata": {
    "vscode": {
     "languageId": "shellscript"
    }
   },
   "outputs": [],
   "source": [
    "!echo \"s1a-iw1-slc-vv-20150403t134413-20150403t134424-005320-006bc4-001:S1A_OPER_AUX_POEORB_OPOD_20150424T123026_V20150402T225944_20150404T005944.EOF\" > data.in\n",
    "!echo \"s1a-iw1-slc-vv-20150121t134413-20150121t134424-004270-005317-001:S1A_OPER_AUX_POEORB_OPOD_20150211T122339_V20150120T225944_20150122T005944.EOF\" >> data.in\n",
    "!echo \"s1a-iw1-slc-vv-20150310t134412-20150310t134424-004970-006386-001:S1A_OPER_AUX_POEORB_OPOD_20150331T123006_V20150309T225944_20150311T005944.EOF\" >> data.in\n",
    "!echo \"s1a-iw1-slc-vv-20150427t134414-20150427t134426-005670-00745c-001:S1A_OPER_AUX_POEORB_OPOD_20150518T122528_V20150426T225944_20150428T005944.EOF\" >> data.in\n",
    "!echo \"s1a-iw1-slc-vv-20150521t134415-20150521t134427-006020-007c3f-001:S1A_OPER_AUX_POEORB_OPOD_20150611T122710_V20150520T225944_20150522T005944.EOF\" >> data.in"
   ]
  },
  {
   "cell_type": "markdown",
   "metadata": {},
   "source": [
    "Get the baseline_time plot first, select the supermaster and mv it to the first line in data.in, save the baseline_table.dat for sbas use."
   ]
  },
  {
   "cell_type": "code",
   "execution_count": 5,
   "metadata": {
    "vscode": {
     "languageId": "shellscript"
    }
   },
   "outputs": [
    {
     "name": "stdout",
     "output_type": "stream",
     "text": [
      "rm: No match.\n",
      "rm: No match.\n",
      "Reading in 4778 lines of info from XML...\n",
      "Writing 17 lines for orbit...\n",
      "Writing SLC..Image Size: 21572 X 5484...\n",
      "Working on burst  #1 #2 #3 #4\n",
      "number of points clipped to short int 2 \n",
      "Writing 282 lines of precise orbit for the LED file...\n",
      "Writing 282 lines of precise orbit for the LED file...\n",
      "Successfully opened junk1 \n",
      "rm: No match.\n",
      "Reading in 4716 lines of info from XML...\n",
      "Writing 17 lines for orbit...\n",
      "Writing 282 lines of precise orbit for the LED file...\n",
      "Shifting the master PRM by 0 lines...\n",
      "Successfully opened junk1.PRM \n",
      "Successfully opened junk2.PRM \n",
      "using command line\n",
      "......master LED file S1_20150403_134413_F1.LED \n",
      ".........aligned LED file S1_20150121_134413_F1.LED \n",
      "using command line\n",
      "......master LED file S1_20150403_134413_F1.LED \n",
      ".........aligned LED file S1_20150121_134413_F1.LED \n",
      "Successfully opened junk1 \n",
      "Successfully opened junk1 \n",
      "[1] 6106\n",
      "[2] 6107\n",
      "[2]  + Done                          SAT_llt2rat S1_20150121_134413_F1.PRM 1 < topo.llt > tmp1.dat\n",
      "[1]  + Done                          SAT_llt2rat tmp.PRM 1 < topo.llt > tmpm.dat\n",
      "blockmedian [WARNING]: (x_max-x_min) must equal (NX + eps) * x_inc), where NX is an integer and |eps| <= 0.0001.\n",
      "blockmedian (gmtapi_init_grdheader): Please select compatible -R and -I values\n",
      "blockmedian [WARNING]: (x_max-x_min) must equal (NX + eps) * x_inc), where NX is an integer and |eps| <= 0.0001.\n",
      "blockmedian (gmtapi_init_grdheader): Please select compatible -R and -I values\n",
      "[1] 6141\n",
      "[2] 6142\n",
      "surface [WARNING]: (x_max-x_min) must equal (NX + eps) * x_inc), where NX is an integer and |eps| <= 0.0001.\n",
      "surface (gmtapi_init_grdheader): Please select compatible -R and -I values\n",
      "surface [WARNING]: (x_max-x_min) must equal (NX + eps) * x_inc), where NX is an integer and |eps| <= 0.0001.\n",
      "surface (gmtapi_init_grdheader): Please select compatible -R and -I values\n",
      "surface [WARNING]: (x_max-x_min) must equal (NX + eps) * x_inc), where NX is an integer and |eps| <= 0.0001.\n",
      "surface (gmtapi_init_grdheader): Please select compatible -R and -I values\n",
      "surface [WARNING]: (x_max-x_min) must equal (NX + eps) * x_inc), where NX is an integer and |eps| <= 0.0001.\n",
      "surface (gmtapi_init_grdheader): Please select compatible -R and -I values\n",
      "surface [WARNING]: Your grid dimensions are mutually prime.  Convergence is very unlikely.\n",
      "surface [WARNING]: (x_max-x_min) must equal (NX + eps) * x_inc), where NX is an integer and |eps| <= 0.0001.\n",
      "surface (gmtapi_init_grdheader): Please select compatible -R and -I values\n",
      "surface [WARNING]: (x_max-x_min) must equal (NX + eps) * x_inc), where NX is an integer and |eps| <= 0.0001.\n",
      "surface (gmtapi_init_grdheader): Please select compatible -R and -I values\n",
      "surface [WARNING]: Your grid dimensions are mutually prime.  Convergence is very unlikely.\n",
      "[2]  + Done                          gmt surface atmp.xyz -bi3d -R0/21596/0/5480 -I8/4 -Gatmp.grd -T0.5 -N1000 -r\n",
      "[1]  + Done                          gmt surface rtmp.xyz -bi3d -R0/21596/0/5480 -I8/4 -Grtmp.grd -T0.5 -N1000 -r\n",
      "Reading in 4716 lines of info from XML...\n",
      "Writing 17 lines for orbit...\n",
      "Reading in range and azimuth shifts table...\n",
      "Writing SLC..Image Size: 21596 X 5480...\n",
      "Working on burst  #1(EAP) #2(EAP) #3(EAP) #4(EAP)\n",
      "number of points clipped to short int 8 \n",
      "Writing 282 lines of precise orbit for the LED file...\n",
      "Successfully opened junk1 \n",
      "Reading in 4716 lines of info from XML...\n",
      "Writing 17 lines for orbit...\n",
      "Writing 282 lines of precise orbit for the LED file...\n",
      "Shifting the master PRM by 0 lines...\n",
      "Successfully opened junk1.PRM \n",
      "Successfully opened junk2.PRM \n",
      "using command line\n",
      "......master LED file S1_20150403_134413_F1.LED \n",
      ".........aligned LED file S1_20150310_134412_F1.LED \n",
      "using command line\n",
      "......master LED file S1_20150403_134413_F1.LED \n",
      ".........aligned LED file S1_20150310_134412_F1.LED \n",
      "Successfully opened junk1 \n",
      "Successfully opened junk1 \n",
      "[1] 6396\n",
      "[2] 6397\n",
      "[2]    Done                          SAT_llt2rat S1_20150310_134412_F1.PRM 1 < topo.llt > tmp1.dat\n",
      "[1]  + Done                          SAT_llt2rat tmp.PRM 1 < topo.llt > tmpm.dat\n",
      "blockmedian [WARNING]: (x_max-x_min) must equal (NX + eps) * x_inc), where NX is an integer and |eps| <= 0.0001.\n",
      "blockmedian (gmtapi_init_grdheader): Please select compatible -R and -I values\n",
      "blockmedian [WARNING]: (x_max-x_min) must equal (NX + eps) * x_inc), where NX is an integer and |eps| <= 0.0001.\n",
      "blockmedian (gmtapi_init_grdheader): Please select compatible -R and -I values\n",
      "[1] 6431\n",
      "[2] 6432\n",
      "surface [WARNING]: (x_max-x_min) must equal (NX + eps) * x_inc), where NX is an integer and |eps| <= 0.0001.\n",
      "surface [WARNING]: (x_max-x_min) must equal (NX + eps) * x_inc), where NX is an integer and |eps| <= 0.0001.\n",
      "surface (gmtapi_init_grdheader): Please select compatible -R and -I values\n",
      "surface (gmtapi_init_grdheader): Please select compatible -R and -I values\n",
      "surface [WARNING]: (x_max-x_min) must equal (NX + eps) * x_inc), where NX is an integer and |eps| <= 0.0001.\n",
      "surface [WARNING]: (x_max-x_min) must equal (NX + eps) * x_inc), where NX is an integer and |eps| <= 0.0001.\n",
      "surface (gmtapi_init_grdheader): Please select compatible -R and -I values\n",
      "surface (gmtapi_init_grdheader): Please select compatible -R and -I values\n",
      "surface [WARNING]: (x_max-x_min) must equal (NX + eps) * x_inc), where NX is an integer and |eps| <= 0.0001.\n",
      "surface [WARNING]: (x_max-x_min) must equal (NX + eps) * x_inc), where NX is an integer and |eps| <= 0.0001.\n",
      "surface (gmtapi_init_grdheader): Please select compatible -R and -I values\n",
      "surface (gmtapi_init_grdheader): Please select compatible -R and -I values\n",
      "surface [WARNING]: Your grid dimensions are mutually prime.  Convergence is very unlikely.\n",
      "surface [WARNING]: Your grid dimensions are mutually prime.  Convergence is very unlikely.\n",
      "[2]  + Done                          gmt surface atmp.xyz -bi3d -R0/21596/0/5484 -I8/4 -Gatmp.grd -T0.5 -N1000 -r\n",
      "[1]  + Done                          gmt surface rtmp.xyz -bi3d -R0/21596/0/5484 -I8/4 -Grtmp.grd -T0.5 -N1000 -r\n",
      "Reading in 4716 lines of info from XML...\n",
      "Writing 17 lines for orbit...\n",
      "Reading in range and azimuth shifts table...\n",
      "Writing SLC..Image Size: 21596 X 5484...\n",
      "Working on burst  #1(EAP) #2(EAP) #3(EAP) #4(EAP)\n",
      "number of points clipped to short int 1 \n",
      "Writing 282 lines of precise orbit for the LED file...\n",
      "Successfully opened junk1 \n",
      "Reading in 4778 lines of info from XML...\n",
      "Writing 17 lines for orbit...\n",
      "Writing 281 lines of precise orbit for the LED file...\n",
      "Shifting the master PRM by 0 lines...\n",
      "Successfully opened junk1.PRM \n",
      "Successfully opened junk2.PRM \n",
      "using command line\n",
      "......master LED file S1_20150403_134413_F1.LED \n",
      ".........aligned LED file S1_20150427_134414_F1.LED \n",
      "using command line\n",
      "......master LED file S1_20150403_134413_F1.LED \n",
      ".........aligned LED file S1_20150427_134414_F1.LED \n",
      "Successfully opened junk1 \n",
      "Successfully opened junk1 \n",
      "[1] 6647\n",
      "[2] 6648\n",
      "[2]  + Done                          SAT_llt2rat S1_20150427_134414_F1.PRM 1 < topo.llt > tmp1.dat\n",
      "[1]  + Done                          SAT_llt2rat tmp.PRM 1 < topo.llt > tmpm.dat\n",
      "blockmedian [WARNING]: (x_max-x_min) must equal (NX + eps) * x_inc), where NX is an integer and |eps| <= 0.0001.\n",
      "blockmedian (gmtapi_init_grdheader): Please select compatible -R and -I values\n",
      "blockmedian [WARNING]: (x_max-x_min) must equal (NX + eps) * x_inc), where NX is an integer and |eps| <= 0.0001.\n",
      "blockmedian (gmtapi_init_grdheader): Please select compatible -R and -I values\n",
      "[1] 6678\n",
      "[2] 6679\n",
      "surface [WARNING]: (x_max-x_min) must equal (NX + eps) * x_inc), where NX is an integer and |eps| <= 0.0001.\n",
      "surface [WARNING]: (x_max-x_min) must equal (NX + eps) * x_inc), where NX is an integer and |eps| <= 0.0001.\n",
      "surface (gmtapi_init_grdheader): Please select compatible -R and -I values\n",
      "surface (gmtapi_init_grdheader): Please select compatible -R and -I values\n",
      "surface [WARNING]: (x_max-x_min) must equal (NX + eps) * x_inc), where NX is an integer and |eps| <= 0.0001.\n",
      "surface (gmtapi_init_grdheader): Please select compatible -R and -I values\n",
      "surface [WARNING]: (x_max-x_min) must equal (NX + eps) * x_inc), where NX is an integer and |eps| <= 0.0001.\n",
      "surface (gmtapi_init_grdheader): Please select compatible -R and -I values\n",
      "surface [WARNING]: (x_max-x_min) must equal (NX + eps) * x_inc), where NX is an integer and |eps| <= 0.0001.\n",
      "surface (gmtapi_init_grdheader): Please select compatible -R and -I values\n",
      "surface [WARNING]: Your grid dimensions are mutually prime.  Convergence is very unlikely.\n",
      "surface [WARNING]: (x_max-x_min) must equal (NX + eps) * x_inc), where NX is an integer and |eps| <= 0.0001.\n",
      "surface (gmtapi_init_grdheader): Please select compatible -R and -I values\n",
      "surface [WARNING]: Your grid dimensions are mutually prime.  Convergence is very unlikely.\n",
      "[2]  + Done                          gmt surface atmp.xyz -bi3d -R0/21572/0/5484 -I8/4 -Gatmp.grd -T0.5 -N1000 -r\n",
      "[1]  + Done                          gmt surface rtmp.xyz -bi3d -R0/21572/0/5484 -I8/4 -Grtmp.grd -T0.5 -N1000 -r\n",
      "Reading in 4778 lines of info from XML...\n",
      "Writing 17 lines for orbit...\n",
      "Reading in range and azimuth shifts table...\n",
      "Writing SLC..Image Size: 21572 X 5484...\n",
      "Working on burst  #1 #2 #3 #4\n",
      "number of points clipped to short int 4 \n",
      "Writing 281 lines of precise orbit for the LED file...\n",
      "Successfully opened junk1 \n",
      "Reading in 4764 lines of info from XML...\n",
      "Writing 17 lines for orbit...\n",
      "Writing 281 lines of precise orbit for the LED file...\n",
      "Shifting the master PRM by 0 lines...\n",
      "Successfully opened junk1.PRM \n",
      "Successfully opened junk2.PRM \n",
      "using command line\n",
      "......master LED file S1_20150403_134413_F1.LED \n",
      ".........aligned LED file S1_20150521_134415_F1.LED \n",
      "using command line\n",
      "......master LED file S1_20150403_134413_F1.LED \n",
      ".........aligned LED file S1_20150521_134415_F1.LED \n",
      "Successfully opened junk1 \n",
      "Successfully opened junk1 \n",
      "[1] 6913\n",
      "[2] 6914\n",
      "[2]    Done                          SAT_llt2rat S1_20150521_134415_F1.PRM 1 < topo.llt > tmp1.dat\n",
      "[1]  + Done                          SAT_llt2rat tmp.PRM 1 < topo.llt > tmpm.dat\n",
      "blockmedian [WARNING]: (x_max-x_min) must equal (NX + eps) * x_inc), where NX is an integer and |eps| <= 0.0001.\n",
      "blockmedian (gmtapi_init_grdheader): Please select compatible -R and -I values\n",
      "blockmedian [WARNING]: (x_max-x_min) must equal (NX + eps) * x_inc), where NX is an integer and |eps| <= 0.0001.\n",
      "blockmedian (gmtapi_init_grdheader): Please select compatible -R and -I values\n",
      "[1] 6944\n",
      "[2] 6945\n",
      "surface [WARNING]: (x_max-x_min) must equal (NX + eps) * x_inc), where NX is an integer and |eps| <= 0.0001.\n",
      "surface [WARNING]: (x_max-x_min) must equal (NX + eps) * x_inc), where NX is an integer and |eps| <= 0.0001.\n",
      "surface (gmtapi_init_grdheader): Please select compatible -R and -I values\n",
      "surface (gmtapi_init_grdheader): Please select compatible -R and -I values\n",
      "surface [WARNING]: (x_max-x_min) must equal (NX + eps) * x_inc), where NX is an integer and |eps| <= 0.0001.\n",
      "surface (gmtapi_init_grdheader): Please select compatible -R and -I values\n",
      "surface [WARNING]: (x_max-x_min) must equal (NX + eps) * x_inc), where NX is an integer and |eps| <= 0.0001.\n",
      "surface [WARNING]: (x_max-x_min) must equal (NX + eps) * x_inc), where NX is an integer and |eps| <= 0.0001.\n",
      "surface (gmtapi_init_grdheader): Please select compatible -R and -I values\n",
      "surface (gmtapi_init_grdheader): Please select compatible -R and -I values\n",
      "surface [WARNING]: (x_max-x_min) must equal (NX + eps) * x_inc), where NX is an integer and |eps| <= 0.0001.\n",
      "surface (gmtapi_init_grdheader): Please select compatible -R and -I values\n",
      "surface [WARNING]: Your grid dimensions are mutually prime.  Convergence is very unlikely.\n",
      "surface [WARNING]: Your grid dimensions are mutually prime.  Convergence is very unlikely.\n",
      "[2]    Done                          gmt surface atmp.xyz -bi3d -R0/21572/0/5484 -I8/4 -Gatmp.grd -T0.5 -N1000 -r\n",
      "[1]  + Done                          gmt surface rtmp.xyz -bi3d -R0/21572/0/5484 -I8/4 -Grtmp.grd -T0.5 -N1000 -r\n",
      "Reading in 4764 lines of info from XML...\n",
      "Writing 17 lines for orbit...\n",
      "Reading in range and azimuth shifts table...\n",
      "Writing SLC..Image Size: 21572 X 5484...\n",
      "Working on burst  #1 #2 #3 #4\n",
      "number of points clipped to short int 6 \n",
      "Writing 281 lines of precise orbit for the LED file...\n",
      "Successfully opened junk1 \n",
      "using command line\n",
      "......master LED file S1_20150403_ALL_F1.LED \n",
      ".........aligned LED file S1_20150121_ALL_F1.LED \n",
      "using command line\n",
      "......master LED file S1_20150403_ALL_F1.LED \n",
      ".........aligned LED file S1_20150121_ALL_F1.LED \n",
      "using command line\n",
      "......master LED file S1_20150403_ALL_F1.LED \n",
      ".........aligned LED file S1_20150310_ALL_F1.LED \n",
      "using command line\n",
      "......master LED file S1_20150403_ALL_F1.LED \n",
      ".........aligned LED file S1_20150310_ALL_F1.LED \n",
      "using command line\n",
      "......master LED file S1_20150403_ALL_F1.LED \n",
      ".........aligned LED file S1_20150403_ALL_F1.LED \n",
      "using command line\n",
      "......master LED file S1_20150403_ALL_F1.LED \n",
      ".........aligned LED file S1_20150403_ALL_F1.LED \n",
      "using command line\n",
      "......master LED file S1_20150403_ALL_F1.LED \n",
      ".........aligned LED file S1_20150427_ALL_F1.LED \n",
      "using command line\n",
      "......master LED file S1_20150403_ALL_F1.LED \n",
      ".........aligned LED file S1_20150427_ALL_F1.LED \n",
      "using command line\n",
      "......master LED file S1_20150403_ALL_F1.LED \n",
      ".........aligned LED file S1_20150521_ALL_F1.LED \n",
      "using command line\n",
      "......master LED file S1_20150403_ALL_F1.LED \n",
      ".........aligned LED file S1_20150521_ALL_F1.LED \n"
     ]
    }
   ],
   "source": [
    "!preproc_batch_tops.csh data.in dem.grd 2\n",
    "os.chdir(\"..\")"
   ]
  },
  {
   "cell_type": "markdown",
   "metadata": {},
   "source": [
    "In case there are clear burst boundaries, use *preproc_batch_tops_esd.csh* instead"
   ]
  },
  {
   "cell_type": "markdown",
   "metadata": {},
   "source": [
    "Create the files needed for intf_tops.csh"
   ]
  },
  {
   "cell_type": "code",
   "execution_count": 12,
   "metadata": {
    "vscode": {
     "languageId": "shellscript"
    }
   },
   "outputs": [
    {
     "name": "stdout",
     "output_type": "stream",
     "text": [
      "true\n"
     ]
    },
    {
     "name": "stdout",
     "output_type": "stream",
     "text": [
      "rm: intf: No such file or directory\n",
      "rm: intf_all: No such file or directory\n"
     ]
    }
   ],
   "source": [
    "!rm -f intf.in\n",
    "!rm -r intf intf_all\n",
    "!echo \"S1_20150121_ALL_F1:S1_20150310_ALL_F1\" > intf.in\n",
    "!echo \"S1_20150121_ALL_F1:S1_20150403_ALL_F1\" >> intf.in\n",
    "!echo \"S1_20150121_ALL_F1:S1_20150427_ALL_F1\" >> intf.in\n",
    "!echo \"S1_20150310_ALL_F1:S1_20150403_ALL_F1\" >> intf.in\n",
    "!echo \"S1_20150310_ALL_F1:S1_20150427_ALL_F1\" >> intf.in\n",
    "!echo \"S1_20150310_ALL_F1:S1_20150521_ALL_F1\" >> intf.in\n",
    "!echo \"S1_20150403_ALL_F1:S1_20150427_ALL_F1\" >> intf.in\n",
    "!echo \"S1_20150403_ALL_F1:S1_20150521_ALL_F1\" >> intf.in\n",
    "!echo \"S1_20150427_ALL_F1:S1_20150521_ALL_F1\" >> intf.in"
   ]
  },
  {
   "cell_type": "markdown",
   "metadata": {},
   "source": [
    "Process the interferograms, remember to set your super master in the batch_tops.config file."
   ]
  },
  {
   "cell_type": "code",
   "execution_count": 13,
   "metadata": {
    "vscode": {
     "languageId": "shellscript"
    }
   },
   "outputs": [
    {
     "name": "stdout",
     "output_type": "stream",
     "text": [
      "\n",
      "clean up topo/ folder\n",
      "\n",
      " \n",
      "DEM2TOPOPHASE.CSH - START\n",
      "USER SHOULD PROVIDE DEM FILE\n",
      "Working over 0/21572/0/5484 ... \n",
      " range decimation is:  2\n",
      "blockmedian [INFORMATION]: Provides 3, expects 3-column binary data\n",
      "blockmedian [INFORMATION]: Processing input table data\n",
      "blockmedian [INFORMATION]: Cartesian input grid\n",
      "blockmedian [INFORMATION]: Cartesian input grid\n",
      "blockmedian [INFORMATION]: W: 0 E: 21572 S: 0 N: 5484 n_columns: 10786 n_rows: 2742\n",
      "blockmedian [INFORMATION]: Input 3 columns via binary records using format ddd\n",
      "blockmedian [INFORMATION]: Output 3 columns via binary records using format ddd\n",
      "blockmedian [INFORMATION]: Reading Data Table from Standard Input stream\n",
      "blockmedian [INFORMATION]: Writing Data Table to Standard Output stream\n",
      "blockmedian [INFORMATION]: Calculating block medians\n",
      "blockmedian [INFORMATION]: N read: 962582 N used: 954699 outside_area: 7883 N cells filled: 954462\n",
      "surface [INFORMATION]: Provides 3, expects 3-column binary data\n",
      "surface [INFORMATION]: Enable all available threads (up to 8)\n",
      "surface [INFORMATION]: Cartesian input grid\n",
      "surface [INFORMATION]: Cartesian input grid\n",
      "surface [INFORMATION]: Internally speed up convergence by using the larger region -R-15/21585/-139/5621 (go from 10786 x 2742 to optimal 10800 x 2880, with speedup-factor 480.93815)\n",
      "surface [INFORMATION]: Cartesian input grid\n",
      "surface [INFORMATION]: Cartesian input grid\n",
      "surface [INFORMATION]: Cartesian input grid\n",
      "surface [INFORMATION]: Cartesian input grid\n",
      "surface [INFORMATION]: Grid domain: W: 0 E: 21572 S: 0 N: 5484 n_columns: 10800 n_rows: 2880 [pixel registration]\n",
      "surface [INFORMATION]: Processing input table data\n",
      "surface [INFORMATION]: Input 3 columns via binary records using format ddd\n",
      "surface [INFORMATION]: Reading Data Table from file temp.rat\n",
      "surface [INFORMATION]: Minimum value of your dataset x,y,z at: 21433.1699219 36.4027671814 -434.994720459\n",
      "surface [INFORMATION]: Maximum value of your dataset x,y,z at: 15859.9824219 2862.50024414 779.552246094\n",
      "surface [INFORMATION]: Eliminate data points that are not nearest a node.\n",
      "surface [WARNING]: 225 unusable points were supplied; these will be ignored.\n",
      "surface [WARNING]: You should have pre-processed the data with block-mean, -median, or -mode.\n",
      "surface [WARNING]: Check that previous processing steps write results with enough decimals.\n",
      "surface [WARNING]: Possibly some data were half-way between nodes and subject to IEEE 754 rounding.\n",
      "surface [INFORMATION]: Plane fit z = -389.001 + (0.00179305 * col) + (0.0951576 * row)\n",
      "surface [INFORMATION]: Normalize detrended data constraints by z rms = 96.772\n",
      "surface [INFORMATION]: Select default convergence limit of 0.0096772 (100 ppm of L2 scale)\n",
      "surface [INFORMATION]: Recompute data index for next iteration [stride = 720]\n",
      "surface [INFORMATION]: ------------------------------------------\n",
      "surface [INFORMATION]: Memory for data array          :   21.8 Mb\n",
      "surface [INFORMATION]: Memory for final grid          :  118.9 Mb\n",
      "surface [INFORMATION]: Memory for Briggs coefficients :   21.8 Mb\n",
      "surface [INFORMATION]: Memory for node status         :   29.7 Mb\n",
      "surface [INFORMATION]: ------------------------------------------\n",
      "surface [INFORMATION]: Total memory use               :  192.3 Mb\n",
      "surface [INFORMATION]: ==========================================\n",
      "surface [INFORMATION]: Grid\tMode\tIteration\tMax Change\tConv Limit\tTotal Iterations\n",
      "surface [INFORMATION]: Set finite-difference coefficients [stride = 720]\n",
      "surface [INFORMATION]: Determine nearest point and set Briggs coefficients [stride = 720]\n",
      "surface [INFORMATION]:  720\tD\t      16\t6.10090301077e-06\t1.34405497444e-05\t        16\n",
      "surface [INFORMATION]: Recompute data index for next iteration [stride = 144]\n",
      "surface [INFORMATION]: Expand grid by factor of 5 when going from stride = 720 to 144\n",
      "surface [INFORMATION]: Fill in expanded grid by bilinear interpolation [stride = 144]\n",
      "surface [INFORMATION]:  144\tI\t     321\t5.69365074104e-05\t6.72027487221e-05\t       337\n",
      "surface [INFORMATION]: Determine nearest point and set Briggs coefficients [stride = 144]\n",
      "surface [INFORMATION]:  144\tD\t      21\t5.64670794973e-05\t6.72027487221e-05\t       358\n",
      "surface [INFORMATION]: Recompute data index for next iteration [stride = 48]\n",
      "surface [INFORMATION]: Expand grid by factor of 3 when going from stride = 144 to 48\n",
      "surface [INFORMATION]: Fill in expanded grid by bilinear interpolation [stride = 48]\n",
      "surface [INFORMATION]:   48\tI\t      56\t0.000181430508624\t0.000201608246166\t       414\n",
      "surface [INFORMATION]: Determine nearest point and set Briggs coefficients [stride = 48]\n",
      "surface [INFORMATION]:   48\tD\t      19\t0.000192268363548\t0.000201608246166\t       433\n",
      "surface [INFORMATION]: Recompute data index for next iteration [stride = 16]\n",
      "surface [INFORMATION]: Expand grid by factor of 3 when going from stride = 48 to 16\n",
      "surface [INFORMATION]: Fill in expanded grid by bilinear interpolation [stride = 16]\n",
      "surface [INFORMATION]:   16\tI\t      49\t0.000517520212273\t0.000604824738499\t       482\n",
      "surface [INFORMATION]: Determine nearest point and set Briggs coefficients [stride = 16]\n",
      "surface [INFORMATION]:   16\tD\t    1000\t0.00060474641827\t0.000604824738499\t      1482\n",
      "surface [INFORMATION]: Recompute data index for next iteration [stride = 8]\n",
      "surface [INFORMATION]: Expand grid by factor of 2 when going from stride = 16 to 8\n",
      "surface [INFORMATION]: Fill in expanded grid by bilinear interpolation [stride = 8]\n",
      "surface [INFORMATION]:    8\tI\t      29\t0.00109507838641\t0.001209649477\t      1511\n",
      "surface [INFORMATION]: Determine nearest point and set Briggs coefficients [stride = 8]\n",
      "surface [INFORMATION]:    8\tD\t    3949\t0.00120734235405\t0.001209649477\t      5460\n",
      "surface [INFORMATION]: Recompute data index for next iteration [stride = 4]\n",
      "surface [INFORMATION]: Expand grid by factor of 2 when going from stride = 8 to 4\n",
      "surface [INFORMATION]: Fill in expanded grid by bilinear interpolation [stride = 4]\n",
      "surface [INFORMATION]:    4\tI\t      26\t0.00229583763118\t0.002419298954\t      5486\n",
      "surface [INFORMATION]: Determine nearest point and set Briggs coefficients [stride = 4]\n"
     ]
    }
   ],
   "source": [
    "!intf_tops.csh intf.in batch_tops.config"
   ]
  },
  {
   "cell_type": "markdown",
   "metadata": {},
   "source": [
    "After this is done, check the interferograms. You'll find there being a discontinuity in some of the interferograms. \n",
    "This can be resolved by using `preproc_batch_tops_esd.csh`. Modify the `README_prep.csh` and see what happens   \n",
    "Also note the ESD may not always make your results better."
   ]
  },
  {
   "cell_type": "markdown",
   "metadata": {},
   "source": [
    "Prepare the input files needed for sbas"
   ]
  },
  {
   "cell_type": "code",
   "execution_count": null,
   "metadata": {
    "vscode": {
     "languageId": "shellscript"
    }
   },
   "outputs": [],
   "source": [
    "!rm -f SBAS\n",
    "!mkdir SBAS\n",
    "os.chdir(\"SBAS\")"
   ]
  },
  {
   "cell_type": "markdown",
   "metadata": {},
   "source": [
    "Based on `baseline_table.dat` create the `intf.tab` and `scene.tab` for sbas"
   ]
  },
  {
   "cell_type": "code",
   "execution_count": null,
   "metadata": {
    "vscode": {
     "languageId": "shellscript"
    }
   },
   "outputs": [],
   "source": [
    "#     phase                                   corherence                           ref_id  rep_id  baseline\n",
    "!echo \"../intf_all/2015020_2015068/unwrap.grd ../intf_all/2015020_2015068/corr.grd 2015020 2015068 -90.333\" > intf.tab\n",
    "!echo \"../intf_all/2015020_2015092/unwrap.grd ../intf_all/2015020_2015092/corr.grd 2015020 2015092 -52.6118\" >> intf.tab\n",
    "!echo \"../intf_all/2015020_2015116/unwrap.grd ../intf_all/2015020_2015116/corr.grd 2015020 2015116 -83.0324\" >> intf.tab\n",
    "!echo \"../intf_all/2015068_2015092/unwrap.grd ../intf_all/2015068_2015092/corr.grd 2015068 2015092 37.7213\" >> intf.tab\n",
    "!echo \"../intf_all/2015068_2015116/unwrap.grd ../intf_all/2015068_2015116/corr.grd 2015068 2015116 7.30062\" >> intf.tab\n",
    "!echo \"../intf_all/2015068_2015140/unwrap.grd ../intf_all/2015068_2015140/corr.grd 2015068 2015140 -13.2457\" >> intf.tab\n",
    "!echo \"../intf_all/2015092_2015116/unwrap.grd ../intf_all/2015092_2015116/corr.grd 2015092 2015116 -30.4207\" >> intf.tab\n",
    "!echo \"../intf_all/2015092_2015140/unwrap.grd ../intf_all/2015092_2015140/corr.grd 2015092 2015140 -50.967\" >> intf.tab\n",
    "!echo \"../intf_all/2015116_2015140/unwrap.grd ../intf_all/2015116_2015140/corr.grd 2015116 2015140 -20.5463\" >> intf.tab"
   ]
  },
  {
   "cell_type": "code",
   "execution_count": null,
   "metadata": {
    "vscode": {
     "languageId": "shellscript"
    }
   },
   "outputs": [],
   "source": [
    "#     scene_id day\n",
    "!echo \"2015092 448\" > scene.tab\n",
    "!echo \"2015020 376\" >> scene.tab \n",
    "!echo \"2015068 424\" >> scene.tab\n",
    "!echo \"2015116 472\" >> scene.tab\n",
    "!echo \"2015140 496\" >> scene.tab\n",
    "!set xdim = `gmt grdinfo -C ../intf_all/2015068_2015092/unwrap.grd | awk '{print $10}'`\n",
    "!set ydim = `gmt grdinfo -C ../intf_all/2015068_2015092/unwrap.grd | awk '{print $11}'`"
   ]
  },
  {
   "cell_type": "markdown",
   "metadata": {},
   "source": [
    "Run sbas"
   ]
  },
  {
   "cell_type": "code",
   "execution_count": null,
   "metadata": {
    "vscode": {
     "languageId": "shellscript"
    }
   },
   "outputs": [],
   "source": [
    "!sbas intf.tab scene.tab 9 5 $xdim $ydim -smooth 1.0 -wavelength 0.0554658 -incidence 30 -range 800184.946186 -rms -dem"
   ]
  },
  {
   "cell_type": "markdown",
   "metadata": {},
   "source": [
    "Project the velocity to Geocooridnates"
   ]
  },
  {
   "cell_type": "code",
   "execution_count": null,
   "metadata": {
    "vscode": {
     "languageId": "shellscript"
    }
   },
   "outputs": [],
   "source": [
    "!ln -s ../topo/trans.dat .\n",
    "!proj_ra2ll.csh trans.dat vel.grd vel_ll.grd\n",
    "!gmt grd2cpt vel_ll.grd -T= -Z -Cjet > vel_ll.cpt\n",
    "!grd2kml.csh vel_ll vel_ll.cpt\n",
    "\n",
    "os.chdir(\"..\")"
   ]
  }
 ],
 "metadata": {
  "kernelspec": {
   "display_name": "Insar",
   "language": "python",
   "name": "python3"
  },
  "language_info": {
   "codemirror_mode": {
    "name": "ipython",
    "version": 3
   },
   "file_extension": ".py",
   "mimetype": "text/x-python",
   "name": "python",
   "nbconvert_exporter": "python",
   "pygments_lexer": "ipython3",
   "version": "3.11.5"
  },
  "orig_nbformat": 4
 },
 "nbformat": 4,
 "nbformat_minor": 2
}
