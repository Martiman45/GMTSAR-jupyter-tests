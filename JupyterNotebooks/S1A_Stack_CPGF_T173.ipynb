{
 "cells": [
  {
   "cell_type": "markdown",
   "metadata": {},
   "source": [
    "Script to batch process a Sentinel-1a TOPS mode data set and create time series.\n",
    "\n",
    "\n",
    "***SBAS Script not working, when you get to that point, please run README_sbas.txt***\n",
    "  \n",
    "Xiaohua(Eric) Xu  \n",
    "June 2016  \n",
    "Adapted to Jupyter September 5, 2023\n",
    "\n"
   ]
  },
  {
   "cell_type": "markdown",
   "metadata": {},
   "source": [
    "Download required files from the [Topex](topex.ucsd.edu.gmtsar/downloads) Server using the following script"
   ]
  },
  {
   "cell_type": "code",
   "execution_count": null,
   "metadata": {
    "vscode": {
     "languageId": "shellscript"
    }
   },
   "outputs": [],
   "source": [
    "import os\n",
    "!wget -q --no-check-certificate https://topex.ucsd.edu/pub/gmtsar/S1A_Stack_CPGF_T173.tar.gz\n",
    "!mkdir S1A_Stack_CPGF_T173\n",
    "os.chdir(\"S1A_Stack_CPGF_T173\")\n",
    "!tar xzvf ../S1A_Stack_CPGF_T173.tar.gz\n",
    "os.chdir(\"..\")\n",
    "!rm S1A_Stack_CPGF_T173.tar.gz\n",
    "os.chdir(\"S1A_Stack_CPGF_T173\")"
   ]
  },
  {
   "cell_type": "markdown",
   "metadata": {},
   "source": [
    "First, prepare the files"
   ]
  },
  {
   "cell_type": "code",
   "execution_count": null,
   "metadata": {
    "vscode": {
     "languageId": "shellscript"
    }
   },
   "outputs": [],
   "source": [
    "!rm -rf raw\n",
    "!mkdir raw\n",
    "os.chdir(\"raw\")"
   ]
  },
  {
   "cell_type": "markdown",
   "metadata": {},
   "source": [
    "In order to correct for Elevation Antenna Pattern Change, cat the manifest and aux files to the xmls and\n",
    "delete the first line of the manifest file as it's not a typical xml file."
   ]
  },
  {
   "cell_type": "code",
   "execution_count": null,
   "metadata": {
    "vscode": {
     "languageId": "shellscript"
    }
   },
   "outputs": [],
   "source": [
    "!awk 'NR>1 {print $0}' < ../raw_orig/20150121_manifest.safe > tmp_file\n",
    "!cat ../raw_orig/s1a-iw1-slc-vv-20150121t134413-20150121t134424-004270-005317-001.xml tmp_file ../raw_orig/s1a-aux-cal.xml > ./s1a-iw1-slc-vv-20150121t134413-20150121t134424-004270-005317-001.xml\n",
    "!awk 'NR>1 {print $0}' < ../raw_orig/20150310_manifest.safe > tmp_file\n",
    "!cat ../raw_orig/s1a-iw1-slc-vv-20150310t134412-20150310t134424-004970-006386-001.xml tmp_file ../raw_orig/s1a-aux-cal.xml > ./s1a-iw1-slc-vv-20150310t134412-20150310t134424-004970-006386-001.xml\n",
    "!awk 'NR>1 {print $0}' < ../raw_orig/20150403_manifest.safe > tmp_file\n",
    "!cat ../raw_orig/s1a-iw1-slc-vv-20150403t134413-20150403t134424-005320-006bc4-001.xml tmp_file ../raw_orig/s1a-aux-cal.xml > ./s1a-iw1-slc-vv-20150403t134413-20150403t134424-005320-006bc4-001.xml\n",
    "!awk 'NR>1 {print $0}' < ../raw_orig/20150427_manifest.safe > tmp_file\n",
    "!cat ../raw_orig/s1a-iw1-slc-vv-20150427t134414-20150427t134426-005670-00745c-001.xml tmp_file ../raw_orig/s1a-aux-cal.xml > ./s1a-iw1-slc-vv-20150427t134414-20150427t134426-005670-00745c-001.xml\n",
    "!awk 'NR>1 {print $0}' < ../raw_orig/20150521_manifest.safe > tmp_file\n",
    "!cat ../raw_orig/s1a-iw1-slc-vv-20150521t134415-20150521t134427-006020-007c3f-001.xml tmp_file ../raw_orig/s1a-aux-cal.xml > ./s1a-iw1-slc-vv-20150521t134415-20150521t134427-006020-007c3f-001.xml\n",
    "!rm tmp_file\n",
    "!ln -s ../raw_orig/*EOF .\n",
    "!ln -s ../raw_orig/*tiff .\n",
    "!ln -s ../topo/dem.grd ."
   ]
  },
  {
   "cell_type": "markdown",
   "metadata": {},
   "source": [
    "Start batch preprocessing"
   ]
  },
  {
   "cell_type": "code",
   "execution_count": null,
   "metadata": {
    "vscode": {
     "languageId": "shellscript"
    }
   },
   "outputs": [],
   "source": [
    "!echo \"s1a-iw1-slc-vv-20150403t134413-20150403t134424-005320-006bc4-001:S1A_OPER_AUX_POEORB_OPOD_20150424T123026_V20150402T225944_20150404T005944.EOF\" > data.in\n",
    "!echo \"s1a-iw1-slc-vv-20150121t134413-20150121t134424-004270-005317-001:S1A_OPER_AUX_POEORB_OPOD_20150211T122339_V20150120T225944_20150122T005944.EOF\" >> data.in\n",
    "!echo \"s1a-iw1-slc-vv-20150310t134412-20150310t134424-004970-006386-001:S1A_OPER_AUX_POEORB_OPOD_20150331T123006_V20150309T225944_20150311T005944.EOF\" >> data.in\n",
    "!echo \"s1a-iw1-slc-vv-20150427t134414-20150427t134426-005670-00745c-001:S1A_OPER_AUX_POEORB_OPOD_20150518T122528_V20150426T225944_20150428T005944.EOF\" >> data.in\n",
    "!echo \"s1a-iw1-slc-vv-20150521t134415-20150521t134427-006020-007c3f-001:S1A_OPER_AUX_POEORB_OPOD_20150611T122710_V20150520T225944_20150522T005944.EOF\" >> data.in"
   ]
  },
  {
   "cell_type": "markdown",
   "metadata": {},
   "source": [
    "Get the baseline_time plot first, select the supermaster and mv it to the first line in data.in, save the baseline_table.dat for sbas use."
   ]
  },
  {
   "cell_type": "code",
   "execution_count": null,
   "metadata": {
    "vscode": {
     "languageId": "shellscript"
    }
   },
   "outputs": [],
   "source": [
    "!preproc_batch_tops.csh data.in dem.grd 2\n",
    "os.chdir(\"..\")"
   ]
  },
  {
   "cell_type": "markdown",
   "metadata": {},
   "source": [
    "In case there are clear burst boundaries, use *preproc_batch_tops_esd.csh* instead"
   ]
  },
  {
   "cell_type": "markdown",
   "metadata": {},
   "source": [
    "Create the files needed for intf_tops.csh"
   ]
  },
  {
   "cell_type": "code",
   "execution_count": null,
   "metadata": {
    "vscode": {
     "languageId": "shellscript"
    }
   },
   "outputs": [],
   "source": [
    "!rm -f intf.in\n",
    "!rm -r intf intf_all\n",
    "!echo \"S1_20150121_ALL_F1:S1_20150310_ALL_F1\" > intf.in\n",
    "!echo \"S1_20150121_ALL_F1:S1_20150403_ALL_F1\" >> intf.in\n",
    "!echo \"S1_20150121_ALL_F1:S1_20150427_ALL_F1\" >> intf.in\n",
    "!echo \"S1_20150310_ALL_F1:S1_20150403_ALL_F1\" >> intf.in\n",
    "!echo \"S1_20150310_ALL_F1:S1_20150427_ALL_F1\" >> intf.in\n",
    "!echo \"S1_20150310_ALL_F1:S1_20150521_ALL_F1\" >> intf.in\n",
    "!echo \"S1_20150403_ALL_F1:S1_20150427_ALL_F1\" >> intf.in\n",
    "!echo \"S1_20150403_ALL_F1:S1_20150521_ALL_F1\" >> intf.in\n",
    "!echo \"S1_20150427_ALL_F1:S1_20150521_ALL_F1\" >> intf.in"
   ]
  },
  {
   "cell_type": "markdown",
   "metadata": {},
   "source": [
    "Process the interferograms, remember to set your super master in the batch_tops.config file."
   ]
  },
  {
   "cell_type": "code",
   "execution_count": null,
   "metadata": {
    "vscode": {
     "languageId": "shellscript"
    }
   },
   "outputs": [],
   "source": [
    "!intf_tops.csh intf.in batch_tops.config"
   ]
  },
  {
   "cell_type": "markdown",
   "metadata": {},
   "source": [
    "After this is done, check the interferograms. You'll find there being a discontinuity in some of the interferograms. \n",
    "This can be resolved by using `preproc_batch_tops_esd.csh`. Modify the `README_prep.csh` and see what happens   \n",
    "Also note the ESD may not always make your results better."
   ]
  },
  {
   "cell_type": "markdown",
   "metadata": {},
   "source": [
    "### ***THE SCRIPT BELOW IS NOT WOKRING. PLEASE USE THE `README_sbas.txt` FILE INSTEAD***"
   ]
  },
  {
   "cell_type": "markdown",
   "metadata": {},
   "source": [
    "Prepare the input files needed for sbas"
   ]
  },
  {
   "cell_type": "code",
   "execution_count": null,
   "metadata": {
    "vscode": {
     "languageId": "shellscript"
    }
   },
   "outputs": [],
   "source": [
    "!rm -fr SBAS\n",
    "!mkdir SBAS\n",
    "os.chdir(\"SBAS\")"
   ]
  },
  {
   "cell_type": "markdown",
   "metadata": {},
   "source": [
    "Based on `baseline_table.dat` create the `intf.tab` and `scene.tab` for sbas"
   ]
  },
  {
   "cell_type": "code",
   "execution_count": null,
   "metadata": {
    "vscode": {
     "languageId": "shellscript"
    }
   },
   "outputs": [],
   "source": [
    "#     phase                                   corherence                           ref_id  rep_id  baseline\n",
    "!echo \"../intf_all/2015020_2015068/unwrap.grd ../intf_all/2015020_2015068/corr.grd 2015020 2015068 -90.333\" > intf.tab\n",
    "!echo \"../intf_all/2015020_2015092/unwrap.grd ../intf_all/2015020_2015092/corr.grd 2015020 2015092 -52.6118\" >> intf.tab\n",
    "!echo \"../intf_all/2015020_2015116/unwrap.grd ../intf_all/2015020_2015116/corr.grd 2015020 2015116 -83.0324\" >> intf.tab\n",
    "!echo \"../intf_all/2015068_2015092/unwrap.grd ../intf_all/2015068_2015092/corr.grd 2015068 2015092 37.7213\" >> intf.tab\n",
    "!echo \"../intf_all/2015068_2015116/unwrap.grd ../intf_all/2015068_2015116/corr.grd 2015068 2015116 7.30062\" >> intf.tab\n",
    "!echo \"../intf_all/2015068_2015140/unwrap.grd ../intf_all/2015068_2015140/corr.grd 2015068 2015140 -13.2457\" >> intf.tab\n",
    "!echo \"../intf_all/2015092_2015116/unwrap.grd ../intf_all/2015092_2015116/corr.grd 2015092 2015116 -30.4207\" >> intf.tab\n",
    "!echo \"../intf_all/2015092_2015140/unwrap.grd ../intf_all/2015092_2015140/corr.grd 2015092 2015140 -50.967\" >> intf.tab\n",
    "!echo \"../intf_all/2015116_2015140/unwrap.grd ../intf_all/2015116_2015140/corr.grd 2015116 2015140 -20.5463\" >> intf.tab"
   ]
  },
  {
   "cell_type": "code",
   "execution_count": null,
   "metadata": {
    "vscode": {
     "languageId": "shellscript"
    }
   },
   "outputs": [],
   "source": [
    "#     scene_id day\n",
    "!echo \"2015092 448\" > scene.tab\n",
    "!echo \"2015020 376\" >> scene.tab \n",
    "!echo \"2015068 424\" >> scene.tab\n",
    "!echo \"2015116 472\" >> scene.tab\n",
    "!echo \"2015140 496\" >> scene.tab"
   ]
  },
  {
   "cell_type": "markdown",
   "metadata": {},
   "source": [
    "Run sbas"
   ]
  },
  {
   "cell_type": "code",
   "execution_count": null,
   "metadata": {
    "vscode": {
     "languageId": "shellscript"
    }
   },
   "outputs": [],
   "source": [
    "!xdim=`gmt grdinfo -C ../intf_all/2015068_2015092/unwrap.grd | awk '{print $10}'`\n",
    "!ydim=`gmt grdinfo -C ../intf_all/2015068_2015092/unwrap.grd | awk '{print $11}'`\n",
    "!sbas intf.tab scene.tab 9 5 \"$xdim\" \"$ydim\" -smooth 1.0 -wavelength 0.0554658 -incidence 30 -range 800184.946186 -rms -dem"
   ]
  },
  {
   "cell_type": "markdown",
   "metadata": {},
   "source": [
    "Project the velocity to Geocooridnates"
   ]
  },
  {
   "cell_type": "code",
   "execution_count": null,
   "metadata": {
    "vscode": {
     "languageId": "shellscript"
    }
   },
   "outputs": [],
   "source": [
    "!ln -s ../topo/trans.dat .\n",
    "!proj_ra2ll.csh trans.dat vel.grd vel_ll.grd\n",
    "!gmt grd2cpt vel_ll.grd -T= -Z -Cjet > vel_ll.cpt\n",
    "!grd2kml.csh vel_ll vel_ll.cpt\n",
    "\n",
    "os.chdir(\"..\")"
   ]
  }
 ],
 "metadata": {
  "kernelspec": {
   "display_name": "Insar",
   "language": "python",
   "name": "python3"
  },
  "language_info": {
   "codemirror_mode": {
    "name": "ipython",
    "version": 3
   },
   "file_extension": ".py",
   "mimetype": "text/x-python",
   "name": "python",
   "nbconvert_exporter": "python",
   "pygments_lexer": "ipython3",
   "version": "3.11.5"
  },
  "orig_nbformat": 4
 },
 "nbformat": 4,
 "nbformat_minor": 2
}
