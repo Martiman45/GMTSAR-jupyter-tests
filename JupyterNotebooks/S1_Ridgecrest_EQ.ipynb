{
 "cells": [
  {
   "cell_type": "markdown",
   "metadata": {},
   "source": [
    "download the SAFE and orbit *.EOF files and put them in the raw directory\n",
    "\n",
    "make a topo directory and construct a dem  \n",
    "`make_dem.csh -119.1 -115.8 34.4 36.6 2`\n",
    "\n"
   ]
  },
  {
   "cell_type": "markdown",
   "metadata": {},
   "source": [
    "Download required files from the [Topex](topex.ucsd.edu.gmtsar/downloads) Server using the following script"
   ]
  },
  {
   "cell_type": "code",
   "execution_count": 1,
   "metadata": {
    "vscode": {
     "languageId": "shellscript"
    }
   },
   "outputs": [],
   "source": [
    "import os\n",
    "!wget -q --no-check-certificate https://topex.ucsd.edu/pub/gmtsar/S1_Ridgecrest_EQ.tar.gz\n",
    "!mkdir S1_Ridgecrest_EQ\n",
    "os.chdir(\"S1_Ridgecrest_EQ\")\n",
    "!tar xzvf ../S1_Ridgecrest_EQ.tar.gz\n",
    "os.chdir(\"..\")\n",
    "!rm S1_Ridgecrest_EQ.tar.gz\n",
    "os.chdir(\"S1_Ridgecrest_EQ\")"
   ]
  },
  {
   "cell_type": "markdown",
   "metadata": {},
   "source": [
    "process the entire frame"
   ]
  },
  {
   "cell_type": "code",
   "execution_count": 2,
   "metadata": {
    "vscode": {
     "languageId": "shellscript"
    }
   },
   "outputs": [],
   "source": [
    "!pop_config.csh S1_TOPS > config.txt\n",
    "!p2p_S1_TOPS_Frame.csh S1A_IW_SLC__1SDV_20190704T135158_20190704T135225_027968_032877_1C4D.SAFE S1A_OPER_AUX_RESORB_OPOD_20190704T152016_V20190704T113336_20190704T145106.EOF S1A_IW_SLC__1SDV_20190716T135159_20190716T135226_028143_032DC3_512B.SAFE S1A_OPER_AUX_RESORB_OPOD_20190716T165508_V20190716T113337_20190716T145107.EOF config.txt vv 1 >& log.txt"
   ]
  },
  {
   "cell_type": "markdown",
   "metadata": {},
   "source": [
    "next make a full resolution interferogram and products using just subswath-2  \n",
    "if you want phase gradients you will need to replace your filter.csh with the version in this directory:  \n",
    "\n",
    "`which filter.csh`  \n",
    "\n",
    "copy that path  \n",
    "\n",
    "`cp filter.csh the/full/path`"
   ]
  },
  {
   "cell_type": "code",
   "execution_count": 3,
   "metadata": {
    "vscode": {
     "languageId": "shellscript"
    }
   },
   "outputs": [],
   "source": [
    "os.chdir(\"H_res\")\n",
    "!p2p_processing.csh S1_TOPS s1a-iw2-slc-vv-20190704t135158-20190704t135223-027968-032877-005 s1a-iw2-slc-vv-20190716t135159-20190716t135224-028143-032dc3-005 config.txt >& log.txt"
   ]
  },
  {
   "cell_type": "markdown",
   "metadata": {},
   "source": [
    "An example of the resulting corr_ll.png in the merge directory\n",
    "\n",
    "![corr_ll.png](images/S1_Ridgecrest_EQ.png)\n",
    "\n",
    "The kml file can be found in the S1_Ridgecrest_EQ/merge/ directroy. The pre merged interferogram can also be found in the S1_Ridgecrest_EQ/H_res/intf/2019184_2019196/ directory. Be sure to open both in the same directory as the .png file or they won't have any data to display"
   ]
  }
 ],
 "metadata": {
  "kernelspec": {
   "display_name": "Insar",
   "language": "python",
   "name": "python3"
  },
  "language_info": {
   "codemirror_mode": {
    "name": "ipython",
    "version": 3
   },
   "file_extension": ".py",
   "mimetype": "text/x-python",
   "name": "python",
   "nbconvert_exporter": "python",
   "pygments_lexer": "ipython3",
   "version": "3.11.5"
  },
  "orig_nbformat": 4
 },
 "nbformat": 4,
 "nbformat_minor": 2
}
