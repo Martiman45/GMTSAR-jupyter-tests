{
 "cells": [
  {
   "cell_type": "markdown",
   "metadata": {},
   "source": [
    "Script to batch process a Sentinel-1a TOPS mode data set and create time series.\n",
    "  \n",
    "Xiaohua(Eric) Xu  \n",
    "June 2016  \n",
    "Adapted to Jupyter September 5, 2023\n",
    "\n",
    "First, prepare the files"
   ]
  },
  {
   "cell_type": "code",
   "execution_count": 1,
   "metadata": {
    "vscode": {
     "languageId": "shellscript"
    }
   },
   "outputs": [],
   "source": [
    "import os\n",
    "!rm -rf raw\n",
    "!mkdir raw\n",
    "os.chdir(\"raw\")"
   ]
  },
  {
   "cell_type": "markdown",
   "metadata": {},
   "source": [
    "In order to correct for Elevation Antenna Pattern Change, cat the manifest and aux files to the xmls and\n",
    "delete the first line of the manifest file as it's not a typical xml file."
   ]
  },
  {
   "cell_type": "code",
   "execution_count": 2,
   "metadata": {
    "vscode": {
     "languageId": "shellscript"
    }
   },
   "outputs": [],
   "source": [
    "!awk 'NR>1 {print $0}' < ../raw_orig/20150121_manifest.safe > tmp_file\n",
    "!cat ../raw_orig/s1a-iw1-slc-vv-20150121t134413-20150121t134424-004270-005317-001.xml tmp_file ../raw_orig/s1a-aux-cal.xml > ./s1a-iw1-slc-vv-20150121t134413-20150121t134424-004270-005317-001.xml\n",
    "!awk 'NR>1 {print $0}' < ../raw_orig/20150310_manifest.safe > tmp_file\n",
    "!cat ../raw_orig/s1a-iw1-slc-vv-20150310t134412-20150310t134424-004970-006386-001.xml tmp_file ../raw_orig/s1a-aux-cal.xml > ./s1a-iw1-slc-vv-20150310t134412-20150310t134424-004970-006386-001.xml\n",
    "!awk 'NR>1 {print $0}' < ../raw_orig/20150403_manifest.safe > tmp_file\n",
    "!cat ../raw_orig/s1a-iw1-slc-vv-20150403t134413-20150403t134424-005320-006bc4-001.xml tmp_file ../raw_orig/s1a-aux-cal.xml > ./s1a-iw1-slc-vv-20150403t134413-20150403t134424-005320-006bc4-001.xml\n",
    "!awk 'NR>1 {print $0}' < ../raw_orig/20150427_manifest.safe > tmp_file\n",
    "!cat ../raw_orig/s1a-iw1-slc-vv-20150427t134414-20150427t134426-005670-00745c-001.xml tmp_file ../raw_orig/s1a-aux-cal.xml > ./s1a-iw1-slc-vv-20150427t134414-20150427t134426-005670-00745c-001.xml\n",
    "!awk 'NR>1 {print $0}' < ../raw_orig/20150521_manifest.safe > tmp_file\n",
    "!cat ../raw_orig/s1a-iw1-slc-vv-20150521t134415-20150521t134427-006020-007c3f-001.xml tmp_file ../raw_orig/s1a-aux-cal.xml > ./s1a-iw1-slc-vv-20150521t134415-20150521t134427-006020-007c3f-001.xml\n",
    "!rm tmp_file\n",
    "!ln -s ../raw_orig/*EOF .\n",
    "!ln -s ../raw_orig/*tiff .\n",
    "!ln -s ../topo/dem.grd ."
   ]
  },
  {
   "cell_type": "markdown",
   "metadata": {},
   "source": [
    "Start batch preprocessing"
   ]
  },
  {
   "cell_type": "code",
   "execution_count": 3,
   "metadata": {
    "vscode": {
     "languageId": "shellscript"
    }
   },
   "outputs": [],
   "source": [
    "!echo \"s1a-iw1-slc-vv-20150403t134413-20150403t134424-005320-006bc4-001:S1A_OPER_AUX_POEORB_OPOD_20150424T123026_V20150402T225944_20150404T005944.EOF\" > data.in\n",
    "!echo \"s1a-iw1-slc-vv-20150121t134413-20150121t134424-004270-005317-001:S1A_OPER_AUX_POEORB_OPOD_20150211T122339_V20150120T225944_20150122T005944.EOF\" >> data.in\n",
    "!echo \"s1a-iw1-slc-vv-20150310t134412-20150310t134424-004970-006386-001:S1A_OPER_AUX_POEORB_OPOD_20150331T123006_V20150309T225944_20150311T005944.EOF\" >> data.in\n",
    "!echo \"s1a-iw1-slc-vv-20150427t134414-20150427t134426-005670-00745c-001:S1A_OPER_AUX_POEORB_OPOD_20150518T122528_V20150426T225944_20150428T005944.EOF\" >> data.in\n",
    "!echo \"s1a-iw1-slc-vv-20150521t134415-20150521t134427-006020-007c3f-001:S1A_OPER_AUX_POEORB_OPOD_20150611T122710_V20150520T225944_20150522T005944.EOF\" >> data.in"
   ]
  },
  {
   "cell_type": "markdown",
   "metadata": {},
   "source": [
    "Get the baseline_time plot first, select the supermaster and mv it to the first line in data.in, save the baseline_table.dat for sbas use."
   ]
  },
  {
   "cell_type": "code",
   "execution_count": 4,
   "metadata": {
    "vscode": {
     "languageId": "shellscript"
    }
   },
   "outputs": [
    {
     "name": "stdout",
     "output_type": "stream",
     "text": [
      "rm: No match.\n",
      "rm: No match.\n",
      "Reading in 4778 lines of info from XML...\n",
      "Writing 17 lines for orbit...\n",
      "Writing SLC..Image Size: 21572 X 5484...\n",
      "Working on burst  #1 #2 #3 #4\n",
      "number of points clipped to short int 2 \n",
      "Writing 282 lines of precise orbit for the LED file...\n",
      "Writing 282 lines of precise orbit for the LED file...\n",
      "Successfully opened junk1 \n",
      "rm: No match.\n",
      "Reading in 4716 lines of info from XML...\n",
      "Writing 17 lines for orbit...\n",
      "Writing 282 lines of precise orbit for the LED file...\n",
      "Shifting the master PRM by 0 lines...\n",
      "Successfully opened junk1.PRM \n",
      "Successfully opened junk2.PRM \n",
      "using command line\n",
      "......master LED file S1_20150403_134413_F1.LED \n",
      ".........aligned LED file S1_20150121_134413_F1.LED \n",
      "using command line\n",
      "......master LED file S1_20150403_134413_F1.LED \n",
      ".........aligned LED file S1_20150121_134413_F1.LED \n",
      "Successfully opened junk1 \n",
      "Successfully opened junk1 \n",
      "[1] 93445\n",
      "[2] 93446\n",
      "[2]    Done                          SAT_llt2rat S1_20150121_134413_F1.PRM 1 < topo.llt > tmp1.dat\n",
      "[1]  + Done                          SAT_llt2rat tmp.PRM 1 < topo.llt > tmpm.dat\n",
      "blockmedian [WARNING]: (x_max-x_min) must equal (NX + eps) * x_inc), where NX is an integer and |eps| <= 0.0001.\n",
      "blockmedian (gmtapi_init_grdheader): Please select compatible -R and -I values\n",
      "blockmedian [WARNING]: (x_max-x_min) must equal (NX + eps) * x_inc), where NX is an integer and |eps| <= 0.0001.\n",
      "blockmedian (gmtapi_init_grdheader): Please select compatible -R and -I values\n",
      "[1] 93509\n",
      "[2] 93510\n",
      "surface [WARNING]: (x_max-x_min) must equal (NX + eps) * x_inc), where NX is an integer and |eps| <= 0.0001.\n",
      "surface (gmtapi_init_grdheader): Please select compatible -R and -I values\n",
      "surface [WARNING]: (x_max-x_min) must equal (NX + eps) * x_inc), where NX is an integer and |eps| <= 0.0001.\n",
      "surface (gmtapi_init_grdheader): Please select compatible -R and -I values\n",
      "surface [WARNING]: (x_max-x_min) must equal (NX + eps) * x_inc), where NX is an integer and |eps| <= 0.0001.\n",
      "surface (gmtapi_init_grdheader): Please select compatible -R and -I values\n",
      "surface [WARNING]: Your grid dimensions are mutually prime.  Convergence is very unlikely.\n",
      "surface [WARNING]: (x_max-x_min) must equal (NX + eps) * x_inc), where NX is an integer and |eps| <= 0.0001.\n",
      "surface (gmtapi_init_grdheader): Please select compatible -R and -I values\n",
      "surface [WARNING]: (x_max-x_min) must equal (NX + eps) * x_inc), where NX is an integer and |eps| <= 0.0001.\n",
      "surface (gmtapi_init_grdheader): Please select compatible -R and -I values\n",
      "surface [WARNING]: (x_max-x_min) must equal (NX + eps) * x_inc), where NX is an integer and |eps| <= 0.0001.\n",
      "surface (gmtapi_init_grdheader): Please select compatible -R and -I values\n",
      "surface [WARNING]: Your grid dimensions are mutually prime.  Convergence is very unlikely.\n",
      "[2]    Done                          gmt surface atmp.xyz -bi3d -R0/21596/0/5480 -I8/4 -Gatmp.grd -T0.5 -N1000 -r\n",
      "[1]  + Done                          gmt surface rtmp.xyz -bi3d -R0/21596/0/5480 -I8/4 -Grtmp.grd -T0.5 -N1000 -r\n",
      "Reading in 4716 lines of info from XML...\n",
      "Writing 17 lines for orbit...\n",
      "Reading in range and azimuth shifts table...\n",
      "Writing SLC..Image Size: 21596 X 5480...\n",
      "Working on burst  #1(EAP) #2(EAP) #3(EAP) #4(EAP)\n",
      "number of points clipped to short int 8 \n",
      "Writing 282 lines of precise orbit for the LED file...\n",
      "Successfully opened junk1 \n",
      "Reading in 4716 lines of info from XML...\n",
      "Writing 17 lines for orbit...\n",
      "Writing 282 lines of precise orbit for the LED file...\n",
      "Shifting the master PRM by 0 lines...\n",
      "Successfully opened junk1.PRM \n",
      "Successfully opened junk2.PRM \n",
      "using command line\n",
      "......master LED file S1_20150403_134413_F1.LED \n",
      ".........aligned LED file S1_20150310_134412_F1.LED \n",
      "using command line\n",
      "......master LED file S1_20150403_134413_F1.LED \n",
      ".........aligned LED file S1_20150310_134412_F1.LED \n",
      "Successfully opened junk1 \n",
      "Successfully opened junk1 \n",
      "[1] 93820\n",
      "[2] 93821\n",
      "[2]    Done                          SAT_llt2rat S1_20150310_134412_F1.PRM 1 < topo.llt > tmp1.dat\n",
      "[1]  + Done                          SAT_llt2rat tmp.PRM 1 < topo.llt > tmpm.dat\n",
      "blockmedian [WARNING]: (x_max-x_min) must equal (NX + eps) * x_inc), where NX is an integer and |eps| <= 0.0001.\n",
      "blockmedian (gmtapi_init_grdheader): Please select compatible -R and -I values\n",
      "blockmedian [WARNING]: (x_max-x_min) must equal (NX + eps) * x_inc), where NX is an integer and |eps| <= 0.0001.\n",
      "blockmedian (gmtapi_init_grdheader): Please select compatible -R and -I values\n",
      "[1] 93862\n",
      "[2] 93863\n",
      "surface [WARNING]: (x_max-x_min) must equal (NX + eps) * x_inc), where NX is an integer and |eps| <= 0.0001.\n",
      "surface [WARNING]: (x_max-x_min) must equal (NX + eps) * x_inc), where NX is an integer and |eps| <= 0.0001.\n",
      "surface (gmtapi_init_grdheader): Please select compatible -R and -I values\n",
      "surface (gmtapi_init_grdheader): Please select compatible -R and -I values\n",
      "surface [WARNING]: (x_max-x_min) must equal (NX + eps) * x_inc), where NX is an integer and |eps| <= 0.0001.\n",
      "surface (gmtapi_init_grdheader): Please select compatible -R and -I values\n",
      "surface [WARNING]: (x_max-x_min) must equal (NX + eps) * x_inc), where NX is an integer and |eps| <= 0.0001.\n",
      "surface [WARNING]: (x_max-x_min) must equal (NX + eps) * x_inc), where NX is an integer and |eps| <= 0.0001.\n",
      "surface (gmtapi_init_grdheader): Please select compatible -R and -I values\n",
      "surface (gmtapi_init_grdheader): Please select compatible -R and -I values\n",
      "surface [WARNING]: Your grid dimensions are mutually prime.  Convergence is very unlikely.\n",
      "surface [WARNING]: (x_max-x_min) must equal (NX + eps) * x_inc), where NX is an integer and |eps| <= 0.0001.\n",
      "surface (gmtapi_init_grdheader): Please select compatible -R and -I values\n",
      "surface [WARNING]: Your grid dimensions are mutually prime.  Convergence is very unlikely.\n",
      "[2]  + Done                          gmt surface atmp.xyz -bi3d -R0/21596/0/5484 -I8/4 -Gatmp.grd -T0.5 -N1000 -r\n",
      "[1]  + Done                          gmt surface rtmp.xyz -bi3d -R0/21596/0/5484 -I8/4 -Grtmp.grd -T0.5 -N1000 -r\n",
      "Reading in 4716 lines of info from XML...\n",
      "Writing 17 lines for orbit...\n",
      "Reading in range and azimuth shifts table...\n",
      "Writing SLC..Image Size: 21596 X 5484...\n",
      "Working on burst  #1(EAP) #2(EAP) #3(EAP) #4(EAP)\n",
      "number of points clipped to short int 1 \n",
      "Writing 282 lines of precise orbit for the LED file...\n",
      "Successfully opened junk1 \n",
      "Reading in 4778 lines of info from XML...\n",
      "Writing 17 lines for orbit...\n",
      "Writing 281 lines of precise orbit for the LED file...\n",
      "Shifting the master PRM by 0 lines...\n",
      "Successfully opened junk1.PRM \n",
      "Successfully opened junk2.PRM \n",
      "using command line\n",
      "......master LED file S1_20150403_134413_F1.LED \n",
      ".........aligned LED file S1_20150427_134414_F1.LED \n",
      "using command line\n",
      "......master LED file S1_20150403_134413_F1.LED \n",
      ".........aligned LED file S1_20150427_134414_F1.LED \n",
      "Successfully opened junk1 \n",
      "Successfully opened junk1 \n",
      "[1] 94096\n",
      "[2] 94097\n",
      "[2]    Done                          SAT_llt2rat S1_20150427_134414_F1.PRM 1 < topo.llt > tmp1.dat\n",
      "[1]  + Done                          SAT_llt2rat tmp.PRM 1 < topo.llt > tmpm.dat\n",
      "blockmedian [WARNING]: (x_max-x_min) must equal (NX + eps) * x_inc), where NX is an integer and |eps| <= 0.0001.\n",
      "blockmedian (gmtapi_init_grdheader): Please select compatible -R and -I values\n",
      "blockmedian [WARNING]: (x_max-x_min) must equal (NX + eps) * x_inc), where NX is an integer and |eps| <= 0.0001.\n",
      "blockmedian (gmtapi_init_grdheader): Please select compatible -R and -I values\n",
      "[1] 94134\n",
      "[2] 94135\n",
      "surface [WARNING]: (x_max-x_min) must equal (NX + eps) * x_inc), where NX is an integer and |eps| <= 0.0001.\n",
      "surface (gmtapi_init_grdheader): Please select compatible -R and -I values\n",
      "surface [WARNING]: (x_max-x_min) must equal (NX + eps) * x_inc), where NX is an integer and |eps| <= 0.0001.\n",
      "surface (gmtapi_init_grdheader): Please select compatible -R and -I values\n",
      "surface [WARNING]: (x_max-x_min) must equal (NX + eps) * x_inc), where NX is an integer and |eps| <= 0.0001.\n",
      "surface (gmtapi_init_grdheader): Please select compatible -R and -I values\n",
      "surface [WARNING]: (x_max-x_min) must equal (NX + eps) * x_inc), where NX is an integer and |eps| <= 0.0001.\n",
      "surface (gmtapi_init_grdheader): Please select compatible -R and -I values\n",
      "surface [WARNING]: Your grid dimensions are mutually prime.  Convergence is very unlikely.\n",
      "surface [WARNING]: (x_max-x_min) must equal (NX + eps) * x_inc), where NX is an integer and |eps| <= 0.0001.\n",
      "surface (gmtapi_init_grdheader): Please select compatible -R and -I values\n",
      "surface [WARNING]: (x_max-x_min) must equal (NX + eps) * x_inc), where NX is an integer and |eps| <= 0.0001.\n",
      "surface (gmtapi_init_grdheader): Please select compatible -R and -I values\n",
      "surface [WARNING]: Your grid dimensions are mutually prime.  Convergence is very unlikely.\n",
      "[2]  + Done                          gmt surface atmp.xyz -bi3d -R0/21572/0/5484 -I8/4 -Gatmp.grd -T0.5 -N1000 -r\n",
      "[1]  + Done                          gmt surface rtmp.xyz -bi3d -R0/21572/0/5484 -I8/4 -Grtmp.grd -T0.5 -N1000 -r\n",
      "Reading in 4778 lines of info from XML...\n",
      "Writing 17 lines for orbit...\n",
      "Reading in range and azimuth shifts table...\n",
      "Writing SLC..Image Size: 21572 X 5484...\n",
      "Working on burst  #1 #2 #3 #4\n",
      "number of points clipped to short int 4 \n",
      "Writing 281 lines of precise orbit for the LED file...\n",
      "Successfully opened junk1 \n",
      "Reading in 4764 lines of info from XML...\n",
      "Writing 17 lines for orbit...\n",
      "Writing 281 lines of precise orbit for the LED file...\n",
      "Shifting the master PRM by 0 lines...\n",
      "Successfully opened junk1.PRM \n",
      "Successfully opened junk2.PRM \n",
      "using command line\n",
      "......master LED file S1_20150403_134413_F1.LED \n",
      ".........aligned LED file S1_20150521_134415_F1.LED \n",
      "using command line\n",
      "......master LED file S1_20150403_134413_F1.LED \n",
      ".........aligned LED file S1_20150521_134415_F1.LED \n",
      "Successfully opened junk1 \n",
      "Successfully opened junk1 \n",
      "[1] 94396\n",
      "[2] 94397\n",
      "[2]    Done                          SAT_llt2rat S1_20150521_134415_F1.PRM 1 < topo.llt > tmp1.dat\n",
      "[1]  + Done                          SAT_llt2rat tmp.PRM 1 < topo.llt > tmpm.dat\n",
      "blockmedian [WARNING]: (x_max-x_min) must equal (NX + eps) * x_inc), where NX is an integer and |eps| <= 0.0001.\n",
      "blockmedian (gmtapi_init_grdheader): Please select compatible -R and -I values\n",
      "blockmedian [WARNING]: (x_max-x_min) must equal (NX + eps) * x_inc), where NX is an integer and |eps| <= 0.0001.\n",
      "blockmedian (gmtapi_init_grdheader): Please select compatible -R and -I values\n",
      "[1] 94422\n",
      "[2] 94423\n",
      "surface [WARNING]: (x_max-x_min) must equal (NX + eps) * x_inc), where NX is an integer and |eps| <= 0.0001.\n",
      "surface [WARNING]: (x_max-x_min) must equal (NX + eps) * x_inc), where NX is an integer and |eps| <= 0.0001.\n",
      "surface (gmtapi_init_grdheader): Please select compatible -R and -I values\n",
      "surface (gmtapi_init_grdheader): Please select compatible -R and -I values\n",
      "surface [WARNING]: (x_max-x_min) must equal (NX + eps) * x_inc), where NX is an integer and |eps| <= 0.0001.\n",
      "surface (gmtapi_init_grdheader): Please select compatible -R and -I values\n",
      "surface [WARNING]: (x_max-x_min) must equal (NX + eps) * x_inc), where NX is an integer and |eps| <= 0.0001.\n",
      "surface [WARNING]: (x_max-x_min) must equal (NX + eps) * x_inc), where NX is an integer and |eps| <= 0.0001.\n",
      "surface (gmtapi_init_grdheader): Please select compatible -R and -I values\n",
      "surface (gmtapi_init_grdheader): Please select compatible -R and -I values\n",
      "surface [WARNING]: Your grid dimensions are mutually prime.  Convergence is very unlikely.\n",
      "surface [WARNING]: (x_max-x_min) must equal (NX + eps) * x_inc), where NX is an integer and |eps| <= 0.0001.\n",
      "surface (gmtapi_init_grdheader): Please select compatible -R and -I values\n",
      "surface [WARNING]: Your grid dimensions are mutually prime.  Convergence is very unlikely.\n",
      "[2]  + Done                          gmt surface atmp.xyz -bi3d -R0/21572/0/5484 -I8/4 -Gatmp.grd -T0.5 -N1000 -r\n",
      "[1]  + Done                          gmt surface rtmp.xyz -bi3d -R0/21572/0/5484 -I8/4 -Grtmp.grd -T0.5 -N1000 -r\n",
      "Reading in 4764 lines of info from XML...\n",
      "Writing 17 lines for orbit...\n",
      "Reading in range and azimuth shifts table...\n",
      "Writing SLC..Image Size: 21572 X 5484...\n",
      "Working on burst  #1 #2 #3 #4\n",
      "number of points clipped to short int 6 \n",
      "Writing 281 lines of precise orbit for the LED file...\n",
      "Successfully opened junk1 \n",
      "using command line\n",
      "......master LED file S1_20150403_ALL_F1.LED \n",
      ".........aligned LED file S1_20150121_ALL_F1.LED \n",
      "using command line\n",
      "......master LED file S1_20150403_ALL_F1.LED \n",
      ".........aligned LED file S1_20150121_ALL_F1.LED \n",
      "using command line\n",
      "......master LED file S1_20150403_ALL_F1.LED \n",
      ".........aligned LED file S1_20150310_ALL_F1.LED \n",
      "using command line\n",
      "......master LED file S1_20150403_ALL_F1.LED \n",
      ".........aligned LED file S1_20150310_ALL_F1.LED \n",
      "using command line\n",
      "......master LED file S1_20150403_ALL_F1.LED \n",
      ".........aligned LED file S1_20150403_ALL_F1.LED \n",
      "using command line\n",
      "......master LED file S1_20150403_ALL_F1.LED \n",
      ".........aligned LED file S1_20150403_ALL_F1.LED \n",
      "using command line\n",
      "......master LED file S1_20150403_ALL_F1.LED \n",
      ".........aligned LED file S1_20150427_ALL_F1.LED \n",
      "using command line\n",
      "......master LED file S1_20150403_ALL_F1.LED \n",
      ".........aligned LED file S1_20150427_ALL_F1.LED \n",
      "using command line\n",
      "......master LED file S1_20150403_ALL_F1.LED \n",
      ".........aligned LED file S1_20150521_ALL_F1.LED \n",
      "using command line\n",
      "......master LED file S1_20150403_ALL_F1.LED \n",
      ".........aligned LED file S1_20150521_ALL_F1.LED \n"
     ]
    }
   ],
   "source": [
    "!preproc_batch_tops.csh data.in dem.grd 2"
   ]
  },
  {
   "cell_type": "markdown",
   "metadata": {},
   "source": [
    "In case there are clear burst boundaries, use *preproc_batch_tops_esd.csh* instead"
   ]
  },
  {
   "cell_type": "code",
   "execution_count": 5,
   "metadata": {
    "vscode": {
     "languageId": "shellscript"
    }
   },
   "outputs": [],
   "source": [
    "os.chdir(\"..\")"
   ]
  },
  {
   "cell_type": "markdown",
   "metadata": {},
   "source": [
    "Create the files needed for intf_tops.csh"
   ]
  },
  {
   "cell_type": "code",
   "execution_count": 6,
   "metadata": {
    "vscode": {
     "languageId": "shellscript"
    }
   },
   "outputs": [
    {
     "ename": "SyntaxError",
     "evalue": "invalid syntax (663582927.py, line 1)",
     "output_type": "error",
     "traceback": [
      "\u001b[0;36m  Cell \u001b[0;32mIn[6], line 1\u001b[0;36m\u001b[0m\n\u001b[0;31m    rm -f intf.in\u001b[0m\n\u001b[0m          ^\u001b[0m\n\u001b[0;31mSyntaxError\u001b[0m\u001b[0;31m:\u001b[0m invalid syntax\n"
     ]
    }
   ],
   "source": [
    "!rm -f intf.in\n",
    "!rm -r intf intf_all\n",
    "!echo \"S1_20150121_ALL_F1:S1_20150310_ALL_F1\" > intf.in\n",
    "!echo \"S1_20150121_ALL_F1:S1_20150403_ALL_F1\" >> intf.in\n",
    "!echo \"S1_20150121_ALL_F1:S1_20150427_ALL_F1\" >> intf.in\n",
    "!echo \"S1_20150310_ALL_F1:S1_20150403_ALL_F1\" >> intf.in\n",
    "!echo \"S1_20150310_ALL_F1:S1_20150427_ALL_F1\" >> intf.in\n",
    "!echo \"S1_20150310_ALL_F1:S1_20150521_ALL_F1\" >> intf.in\n",
    "!echo \"S1_20150403_ALL_F1:S1_20150427_ALL_F1\" >> intf.in\n",
    "!echo \"S1_20150403_ALL_F1:S1_20150521_ALL_F1\" >> intf.in\n",
    "!echo \"S1_20150427_ALL_F1:S1_20150521_ALL_F1\" >> intf.in"
   ]
  },
  {
   "cell_type": "markdown",
   "metadata": {},
   "source": [
    "Process the interferograms, remember to set your super master in the batch_tops.config file."
   ]
  },
  {
   "cell_type": "code",
   "execution_count": null,
   "metadata": {
    "vscode": {
     "languageId": "shellscript"
    }
   },
   "outputs": [],
   "source": [
    "!intf_tops.csh intf.in batch_tops.config"
   ]
  },
  {
   "cell_type": "markdown",
   "metadata": {},
   "source": [
    "After this is done, check the interferograms. You'll find there being a discontinuity in some of the interferograms. \n",
    "This can be resolved by using `preproc_batch_tops_esd.csh`. Modify the `README_prep.csh` and see what happens   \n",
    "Also note the ESD may not always make your results better."
   ]
  },
  {
   "cell_type": "markdown",
   "metadata": {},
   "source": [
    "Prepare the input files needed for sbas"
   ]
  },
  {
   "cell_type": "code",
   "execution_count": null,
   "metadata": {
    "vscode": {
     "languageId": "shellscript"
    }
   },
   "outputs": [],
   "source": [
    "!rm -f SBAS\n",
    "!mkdir SBAS\n",
    "!os.chdir(\"SBAS\")"
   ]
  },
  {
   "cell_type": "markdown",
   "metadata": {},
   "source": [
    "Based on `baseline_table.dat` create the `intf.tab` and `scene.tab` for sbas"
   ]
  },
  {
   "cell_type": "code",
   "execution_count": null,
   "metadata": {
    "vscode": {
     "languageId": "shellscript"
    }
   },
   "outputs": [],
   "source": [
    "#     phase                                   corherence                           ref_id  rep_id  baseline\n",
    "!echo \"../intf_all/2015020_2015068/unwrap.grd ../intf_all/2015020_2015068/corr.grd 2015020 2015068 -90.333\" > intf.tab\n",
    "!echo \"../intf_all/2015020_2015092/unwrap.grd ../intf_all/2015020_2015092/corr.grd 2015020 2015092 -52.6118\" >> intf.tab\n",
    "!echo \"../intf_all/2015020_2015116/unwrap.grd ../intf_all/2015020_2015116/corr.grd 2015020 2015116 -83.0324\" >> intf.tab\n",
    "!echo \"../intf_all/2015068_2015092/unwrap.grd ../intf_all/2015068_2015092/corr.grd 2015068 2015092 37.7213\" >> intf.tab\n",
    "!echo \"../intf_all/2015068_2015116/unwrap.grd ../intf_all/2015068_2015116/corr.grd 2015068 2015116 7.30062\" >> intf.tab\n",
    "!echo \"../intf_all/2015068_2015140/unwrap.grd ../intf_all/2015068_2015140/corr.grd 2015068 2015140 -13.2457\" >> intf.tab\n",
    "!echo \"../intf_all/2015092_2015116/unwrap.grd ../intf_all/2015092_2015116/corr.grd 2015092 2015116 -30.4207\" >> intf.tab\n",
    "!echo \"../intf_all/2015092_2015140/unwrap.grd ../intf_all/2015092_2015140/corr.grd 2015092 2015140 -50.967\" >> intf.tab\n",
    "!echo \"../intf_all/2015116_2015140/unwrap.grd ../intf_all/2015116_2015140/corr.grd 2015116 2015140 -20.5463\" >> intf.tab"
   ]
  },
  {
   "cell_type": "code",
   "execution_count": null,
   "metadata": {
    "vscode": {
     "languageId": "shellscript"
    }
   },
   "outputs": [],
   "source": [
    "#     scene_id day\n",
    "!echo \"2015092 448\" > scene.tab\n",
    "!echo \"2015020 376\" >> scene.tab \n",
    "!echo \"2015068 424\" >> scene.tab\n",
    "!echo \"2015116 472\" >> scene.tab\n",
    "!echo \"2015140 496\" >> scene.tab\n",
    "!set xdim = `gmt grdinfo -C ../intf_all/2015068_2015092/unwrap.grd | awk '{print $10}'`\n",
    "!set ydim = `gmt grdinfo -C ../intf_all/2015068_2015092/unwrap.grd | awk '{print $11}'`"
   ]
  },
  {
   "cell_type": "markdown",
   "metadata": {},
   "source": [
    "Run sbas"
   ]
  },
  {
   "cell_type": "code",
   "execution_count": null,
   "metadata": {
    "vscode": {
     "languageId": "shellscript"
    }
   },
   "outputs": [],
   "source": [
    "!sbas intf.tab scene.tab 9 5 $xdim $ydim -smooth 1.0 -wavelength 0.0554658 -incidence 30 -range 800184.946186 -rms -dem"
   ]
  },
  {
   "cell_type": "markdown",
   "metadata": {},
   "source": [
    "Project the velocity to Geocooridnates"
   ]
  },
  {
   "cell_type": "code",
   "execution_count": null,
   "metadata": {
    "vscode": {
     "languageId": "shellscript"
    }
   },
   "outputs": [],
   "source": [
    "!ln -s ../topo/trans.dat .\n",
    "!proj_ra2ll.csh trans.dat vel.grd vel_ll.grd\n",
    "!gmt grd2cpt vel_ll.grd -T= -Z -Cjet > vel_ll.cpt\n",
    "!grd2kml.csh vel_ll vel_ll.cpt\n",
    "\n",
    "os.chdir(\"..\")"
   ]
  }
 ],
 "metadata": {
  "kernelspec": {
   "display_name": "Insar",
   "language": "python",
   "name": "python3"
  },
  "language_info": {
   "codemirror_mode": {
    "name": "ipython",
    "version": 3
   },
   "file_extension": ".py",
   "mimetype": "text/x-python",
   "name": "python",
   "nbconvert_exporter": "python",
   "pygments_lexer": "ipython3",
   "version": "3.11.5"
  },
  "orig_nbformat": 4
 },
 "nbformat": 4,
 "nbformat_minor": 2
}
